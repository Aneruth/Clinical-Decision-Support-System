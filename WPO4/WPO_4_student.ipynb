{
 "cells": [
  {
   "cell_type": "markdown",
   "metadata": {
    "id": "VsTKqdZ3PDVf"
   },
   "source": [
    "# Health Information Systems and Decision Support Systems\n",
    "## WPO 4: Data-driven systems 2: regression  (18/03/22)\n",
    "***\n",
    "*Jakub Ceranka, Joris Wuts, Jef Vandemeulebroucke* <br>\n",
    "*Department of Electronics and Informatics (ETRO)* <br>\n",
    "*Vrije Universiteit Brussel, Pleinlaan 2, B-1050 Brussels, Belgium*"
   ]
  },
  {
   "cell_type": "markdown",
   "metadata": {
    "id": "6gUGtGPIPdWf"
   },
   "source": [
    "<font color=red>\n",
    "Aneruth Mohansundaram - 0573520 (VUB) <br><br>\n",
    "Ishan Raychaudhuri - 0574056 (VUB)\n",
    "</font>"
   ]
  },
  {
   "cell_type": "markdown",
   "metadata": {
    "id": "LJpKHo3VW3bP"
   },
   "source": [
    "***\n",
    "### Goal\n",
    "The goal of this practical session is to get an insight into logistic regression modelling using real life medical data from patients infected with COVID-19. Your tasks will involve building different models to predict disease severity and analyze the relations between different variables and severity risk. Students must send their notebook using the Assignment functionality of Canvas before the __25th of March, 2022, 23:59. Remember to include the HTML format!__ The grade from this practical session will contribute to your final grade.\n",
    "Questions: [jceranka@etrovub.be](mailto:jceranka@etrovub.be), [jwuts@etrovub.be](mailto:jwuts@etrovub.be) \n",
    "***\n",
    "In this practical session you will predict the severity of the COVID-19 outcome, based on the analysis of patient information and the corresponding computed tomography (CT) images features of COVID-19 suspects and actual patients.\n",
    "***\n",
    "#### COVID features dataset\n",
    "Have a look at the provided COVID datasheet (*COVID_data.csv*) with multiple features describing various COVID patients and suspects. The dataset consist of 2000 data points with multiple features, each datapoint representing an actual COVID-patient or a COVID-suspect.\n",
    "\n",
    "The contents of the feaures provide the following information:\n",
    "*   *PatientID*: ID of the patient\n",
    "*   *Age*: Age of the patient categorized into one of 6 categories to limit the risk of deanonimization.\n",
    "*   *Sex*: M or F - patient gender\n",
    "*   *Covid*: indicates whether the patient had a confirmed COVID infection\n",
    "*   *Severity*: for COVID patients, indicates whether the disease was severe (need for intubation or caused patient death)\n",
    "*   *Image_size* and *Spacing* are CT image parameters used for imaging\n",
    "*   *GGO*: Proportion of the lung with GGO. Ground glass opacity (*GGO*) refers to the hazy gray areas that can show up in CT scans or X-rays of the lungs. These gray areas indicate increased density inside the lungs. The term comes from a technique in glassmaking during which the surface of the glass is blasted by sand.\n",
    "*   *Consolidation*: Proportion of the lung with consolidated lessions. A pulmonary consolidation is a region of normally compressible lung tissue that has filled with liquid instead of air. \n",
    "\n",
    "Two last features (*GGO* and *Consolidation*) were extracted from CT images of patients with COVID, or suspects of having COVID, and the ratio to the total lung volume is provided.\n",
    "\n",
    "<img src=\"GGO.jpeg\" alt=\"Drawing\" style=\"width: 600px;\"/>\n",
    "\n",
    "High-resolution CT image showing ground-glass opacities in the periphery of both lungs in a patient with COVID-19 (red arrows). The adjacent normal lung tissue with lower attenuation appears as darker areas.\n"
   ]
  },
  {
   "cell_type": "markdown",
   "metadata": {},
   "source": [
    "### Importing packages \n",
    "\n",
    "During this lab session you will need a couple of packages, run the following cell to import pandas, numpy, seaborn and matplotlib."
   ]
  },
  {
   "cell_type": "code",
   "execution_count": 1,
   "metadata": {},
   "outputs": [],
   "source": [
    "import numpy as np\n",
    "import pandas as pd\n",
    "import matplotlib.pylab as plt\n",
    "import seaborn as sns"
   ]
  },
  {
   "cell_type": "markdown",
   "metadata": {
    "id": "VJ-NG2m_wKdO"
   },
   "source": [
    "***\n",
    "## Part 1: Loading, cleaning and analyzing the data\n",
    "### Task 1.1 Loading and cleaning the data \n",
    "Lets read the data into the dataframe `data`. \n",
    "\n",
    "Inspect the dataframe and drop the following columns : `Images_sizes, Spacings, PatientID`.\n",
    "\n",
    "Your processed dataframe should have a shape of `(2000,6)`.\n",
    "\n",
    "Please call your final dataframe `df` throughout the whole lab session, as we provide code snipets in Task 2 and 3 that assume this variable name for the dataframe.\n",
    "\n",
    "To further use the dataframe, we need to binarize the `Sex` label. Binarize the column so that male patients have a value of 1 and females of 0. Finally, filter the dataframe so it only has COVID positive patients. After filtering you can also drop the COVID column. \n",
    "\n",
    "Your final dataframe should be a shape of `(1205, 5)`. "
   ]
  },
  {
   "cell_type": "code",
   "execution_count": 2,
   "metadata": {
    "colab": {
     "base_uri": "https://localhost:8080/",
     "height": 468
    },
    "executionInfo": {
     "elapsed": 1710,
     "status": "ok",
     "timestamp": 1647438818007,
     "user": {
      "displayName": "Matias Nicolas Bossa",
      "photoUrl": "https://lh3.googleusercontent.com/a-/AOh14GjaVkfNlJBVIrT1Vc51lAnJMRJSYqv4USmq39111g=s64",
      "userId": "14202046060542788580"
     },
     "user_tz": -60
    },
    "id": "086e4bc8",
    "outputId": "d2dd1909-0456-4347-f71a-98581b8acf5f"
   },
   "outputs": [
    {
     "data": {
      "text/html": [
       "<div>\n",
       "<style scoped>\n",
       "    .dataframe tbody tr th:only-of-type {\n",
       "        vertical-align: middle;\n",
       "    }\n",
       "\n",
       "    .dataframe tbody tr th {\n",
       "        vertical-align: top;\n",
       "    }\n",
       "\n",
       "    .dataframe thead th {\n",
       "        text-align: right;\n",
       "    }\n",
       "</style>\n",
       "<table border=\"1\" class=\"dataframe\">\n",
       "  <thead>\n",
       "    <tr style=\"text-align: right;\">\n",
       "      <th></th>\n",
       "      <th>Age</th>\n",
       "      <th>Sex</th>\n",
       "      <th>Covid</th>\n",
       "      <th>Severity</th>\n",
       "      <th>GGO</th>\n",
       "      <th>Consolidation</th>\n",
       "    </tr>\n",
       "  </thead>\n",
       "  <tbody>\n",
       "    <tr>\n",
       "      <th>0</th>\n",
       "      <td>65</td>\n",
       "      <td>0</td>\n",
       "      <td>1</td>\n",
       "      <td>0</td>\n",
       "      <td>0.097123</td>\n",
       "      <td>0.049944</td>\n",
       "    </tr>\n",
       "    <tr>\n",
       "      <th>1</th>\n",
       "      <td>35</td>\n",
       "      <td>1</td>\n",
       "      <td>0</td>\n",
       "      <td>0</td>\n",
       "      <td>0.084260</td>\n",
       "      <td>0.009885</td>\n",
       "    </tr>\n",
       "    <tr>\n",
       "      <th>2</th>\n",
       "      <td>65</td>\n",
       "      <td>0</td>\n",
       "      <td>0</td>\n",
       "      <td>0</td>\n",
       "      <td>0.187388</td>\n",
       "      <td>0.011108</td>\n",
       "    </tr>\n",
       "    <tr>\n",
       "      <th>3</th>\n",
       "      <td>85</td>\n",
       "      <td>0</td>\n",
       "      <td>0</td>\n",
       "      <td>0</td>\n",
       "      <td>0.102844</td>\n",
       "      <td>0.017063</td>\n",
       "    </tr>\n",
       "    <tr>\n",
       "      <th>4</th>\n",
       "      <td>65</td>\n",
       "      <td>1</td>\n",
       "      <td>0</td>\n",
       "      <td>0</td>\n",
       "      <td>0.001064</td>\n",
       "      <td>0.001452</td>\n",
       "    </tr>\n",
       "  </tbody>\n",
       "</table>\n",
       "</div>"
      ],
      "text/plain": [
       "   Age  Sex  Covid  Severity       GGO  Consolidation\n",
       "0   65    0      1         0  0.097123       0.049944\n",
       "1   35    1      0         0  0.084260       0.009885\n",
       "2   65    0      0         0  0.187388       0.011108\n",
       "3   85    0      0         0  0.102844       0.017063\n",
       "4   65    1      0         0  0.001064       0.001452"
      ]
     },
     "execution_count": 2,
     "metadata": {},
     "output_type": "execute_result"
    }
   ],
   "source": [
    "data = pd.read_csv('COVID_data.csv')\n",
    "colsRemove = ['PatientID','Image_size_x','Image_size_y','Image_size_z','Spacing_x','Spacing_y','Spacing_z']\n",
    "df = data.drop(colsRemove,axis=1)\n",
    "df.Sex = df.Sex.replace({'M':0,'F':1})\n",
    "df.head()"
   ]
  },
  {
   "cell_type": "code",
   "execution_count": 3,
   "id": "ad43b3d5",
   "metadata": {},
   "outputs": [],
   "source": [
    "df = df[df['Covid']==1]\n",
    "df = df.drop('Covid',axis=1)"
   ]
  },
  {
   "cell_type": "code",
   "execution_count": 4,
   "id": "32ce9b2a",
   "metadata": {},
   "outputs": [
    {
     "data": {
      "text/html": [
       "<div>\n",
       "<style scoped>\n",
       "    .dataframe tbody tr th:only-of-type {\n",
       "        vertical-align: middle;\n",
       "    }\n",
       "\n",
       "    .dataframe tbody tr th {\n",
       "        vertical-align: top;\n",
       "    }\n",
       "\n",
       "    .dataframe thead th {\n",
       "        text-align: right;\n",
       "    }\n",
       "</style>\n",
       "<table border=\"1\" class=\"dataframe\">\n",
       "  <thead>\n",
       "    <tr style=\"text-align: right;\">\n",
       "      <th></th>\n",
       "      <th>Age</th>\n",
       "      <th>Sex</th>\n",
       "      <th>Severity</th>\n",
       "      <th>GGO</th>\n",
       "      <th>Consolidation</th>\n",
       "    </tr>\n",
       "  </thead>\n",
       "  <tbody>\n",
       "    <tr>\n",
       "      <th>0</th>\n",
       "      <td>65</td>\n",
       "      <td>0</td>\n",
       "      <td>0</td>\n",
       "      <td>0.097123</td>\n",
       "      <td>0.049944</td>\n",
       "    </tr>\n",
       "    <tr>\n",
       "      <th>5</th>\n",
       "      <td>65</td>\n",
       "      <td>1</td>\n",
       "      <td>0</td>\n",
       "      <td>0.001831</td>\n",
       "      <td>0.002305</td>\n",
       "    </tr>\n",
       "    <tr>\n",
       "      <th>7</th>\n",
       "      <td>65</td>\n",
       "      <td>1</td>\n",
       "      <td>0</td>\n",
       "      <td>0.107670</td>\n",
       "      <td>0.020860</td>\n",
       "    </tr>\n",
       "    <tr>\n",
       "      <th>9</th>\n",
       "      <td>65</td>\n",
       "      <td>0</td>\n",
       "      <td>0</td>\n",
       "      <td>0.082823</td>\n",
       "      <td>0.000371</td>\n",
       "    </tr>\n",
       "    <tr>\n",
       "      <th>10</th>\n",
       "      <td>35</td>\n",
       "      <td>0</td>\n",
       "      <td>0</td>\n",
       "      <td>0.036793</td>\n",
       "      <td>0.054030</td>\n",
       "    </tr>\n",
       "  </tbody>\n",
       "</table>\n",
       "</div>"
      ],
      "text/plain": [
       "    Age  Sex  Severity       GGO  Consolidation\n",
       "0    65    0         0  0.097123       0.049944\n",
       "5    65    1         0  0.001831       0.002305\n",
       "7    65    1         0  0.107670       0.020860\n",
       "9    65    0         0  0.082823       0.000371\n",
       "10   35    0         0  0.036793       0.054030"
      ]
     },
     "execution_count": 4,
     "metadata": {},
     "output_type": "execute_result"
    }
   ],
   "source": [
    "df.head()"
   ]
  },
  {
   "cell_type": "markdown",
   "metadata": {
    "id": "x6K1wVJwzeH8"
   },
   "source": [
    "***\n",
    "### Task 1.2: Assess the severity of COVID-19 in function of age\n",
    "\n",
    "Plot a stacked histogram for the different age groups. Note, that the ages are categorical at 6 fixed values.\n",
    "\n",
    "__Hint:__ Use seaborns `histplot`. "
   ]
  },
  {
   "cell_type": "code",
   "execution_count": 5,
   "id": "a259ac90",
   "metadata": {},
   "outputs": [
    {
     "data": {
      "text/plain": [
       "array([65, 35, 85, 75, 45, 55])"
      ]
     },
     "execution_count": 5,
     "metadata": {},
     "output_type": "execute_result"
    }
   ],
   "source": [
    "df.Age.unique() # Check the unique age "
   ]
  },
  {
   "cell_type": "code",
   "execution_count": 6,
   "metadata": {
    "colab": {
     "base_uri": "https://localhost:8080/",
     "height": 296
    },
    "executionInfo": {
     "elapsed": 476,
     "status": "ok",
     "timestamp": 1647438818471,
     "user": {
      "displayName": "Matias Nicolas Bossa",
      "photoUrl": "https://lh3.googleusercontent.com/a-/AOh14GjaVkfNlJBVIrT1Vc51lAnJMRJSYqv4USmq39111g=s64",
      "userId": "14202046060542788580"
     },
     "user_tz": -60
    },
    "id": "ZauD4By0ynmb",
    "outputId": "54a27764-62c0-4c7d-c9c2-2d6d2b46a0df"
   },
   "outputs": [
    {
     "data": {
      "text/plain": [
       "<AxesSubplot:xlabel='GGO', ylabel='Count'>"
      ]
     },
     "execution_count": 6,
     "metadata": {},
     "output_type": "execute_result"
    },
    {
     "data": {
      "image/png": "[encoded data removed]",
      "text/plain": [
       "<Figure size 432x288 with 1 Axes>"
      ]
     },
     "metadata": {
      "needs_background": "light"
     },
     "output_type": "display_data"
    }
   ],
   "source": [
    "sns.histplot(df, x=\"GGO\", hue=\"Age\", multiple=\"stack\")"
   ]
  },
  {
   "cell_type": "markdown",
   "metadata": {},
   "source": [
    "The `histplot` only gives us insight for the discrete ages that are present in the dataset. To get a better understanding for age values in between, use a density plot. Plot both distributions (severe and not severe) in function of age on top of each other.\n",
    "\n",
    "__Hint:__ Use the KDE seaborn plots and set alpha to a low value to plot densities over each other."
   ]
  },
  {
   "cell_type": "code",
   "execution_count": 7,
   "metadata": {
    "colab": {
     "base_uri": "https://localhost:8080/",
     "height": 279
    },
    "executionInfo": {
     "elapsed": 745,
     "status": "ok",
     "timestamp": 1647438819210,
     "user": {
      "displayName": "Matias Nicolas Bossa",
      "photoUrl": "https://lh3.googleusercontent.com/a-/AOh14GjaVkfNlJBVIrT1Vc51lAnJMRJSYqv4USmq39111g=s64",
      "userId": "14202046060542788580"
     },
     "user_tz": -60
    },
    "id": "AOWrAIhAYTBi",
    "outputId": "4f00dc2b-2a0f-40f0-8af1-8bb40646899b"
   },
   "outputs": [
    {
     "data": {
      "text/plain": [
       "<seaborn.axisgrid.FacetGrid at 0x7fa0640954f0>"
      ]
     },
     "execution_count": 7,
     "metadata": {},
     "output_type": "execute_result"
    },
    {
     "data": {
      "image/png": "[encoded data removed]",
      "text/plain": [
       "<Figure size 409.125x360 with 1 Axes>"
      ]
     },
     "metadata": {
      "needs_background": "light"
     },
     "output_type": "display_data"
    }
   ],
   "source": [
    "sns.displot(df, x=\"Age\", hue=\"Severity\",kde=True,stat=\"density\")"
   ]
  },
  {
   "cell_type": "markdown",
   "metadata": {},
   "source": [
    "### Question 1.1: What can you conclude from these plots?"
   ]
  },
  {
   "cell_type": "markdown",
   "metadata": {},
   "source": [
    "Answer to question 1.1: ..."
   ]
  },
  {
   "cell_type": "markdown",
   "metadata": {},
   "source": [
    "***\n",
    "### Task 1.3: Checking the impact of GGO, consolidation and sex on the COVID severity\n",
    "\n",
    "Now make similar three plots to assess the correlations between the `GGO`, `Consolidation` and `Sex` vs `Severity`.\n",
    "\n",
    "__Hint:__ As `sex` is a discrete binary value, a normal histogram is more suited then the KDE plot."
   ]
  },
  {
   "cell_type": "code",
   "execution_count": 8,
   "metadata": {},
   "outputs": [
    {
     "data": {
      "text/plain": [
       "<AxesSubplot:xlabel='GGO', ylabel='Count'>"
      ]
     },
     "execution_count": 8,
     "metadata": {},
     "output_type": "execute_result"
    },
    {
     "data": {
      "image/png": "[encoded data removed]",
      "text/plain": [
       "<Figure size 432x288 with 1 Axes>"
      ]
     },
     "metadata": {
      "needs_background": "light"
     },
     "output_type": "display_data"
    }
   ],
   "source": [
    "# GGO vs Severity plot\n",
    "sns.histplot(df, x=\"GGO\", hue='Severity',kde=True)"
   ]
  },
  {
   "cell_type": "code",
   "execution_count": 9,
   "metadata": {},
   "outputs": [
    {
     "data": {
      "text/plain": [
       "<AxesSubplot:xlabel='Consolidation', ylabel='Count'>"
      ]
     },
     "execution_count": 9,
     "metadata": {},
     "output_type": "execute_result"
    },
    {
     "data": {
      "image/png": "[encoded data removed]",
      "text/plain": [
       "<Figure size 432x288 with 1 Axes>"
      ]
     },
     "metadata": {
      "needs_background": "light"
     },
     "output_type": "display_data"
    }
   ],
   "source": [
    "# Consolidation vs Severity plot\n",
    "sns.histplot(df, x=\"Consolidation\", hue='Severity',kde=True,bins=10)"
   ]
  },
  {
   "cell_type": "code",
   "execution_count": 10,
   "metadata": {},
   "outputs": [
    {
     "data": {
      "text/plain": [
       "<AxesSubplot:xlabel='Sex', ylabel='Count'>"
      ]
     },
     "execution_count": 10,
     "metadata": {},
     "output_type": "execute_result"
    },
    {
     "data": {
      "image/png": "[encoded data removed]",
      "text/plain": [
       "<Figure size 432x288 with 1 Axes>"
      ]
     },
     "metadata": {
      "needs_background": "light"
     },
     "output_type": "display_data"
    }
   ],
   "source": [
    "# Sex vs Severity plot\n",
    "sns.histplot(df, x=\"Sex\", hue='Severity',kde=True)"
   ]
  },
  {
   "cell_type": "markdown",
   "metadata": {},
   "source": [
    "### Question 1.2: What can you say about the relations of `Consolidation`, `GGO` and `Sex` with the `Severity` of COVID?"
   ]
  },
  {
   "cell_type": "markdown",
   "metadata": {},
   "source": [
    "Answer to Question 1.2: ...\n"
   ]
  },
  {
   "cell_type": "markdown",
   "metadata": {
    "id": "S7pUcAMa0Hqh"
   },
   "source": [
    "***\n",
    "## Part 2:  Logistic regression of severity on `Age` and `Gender`\n",
    "\n",
    "Logistic regression allows us to analyze how a set of features affects some binary target label. The weights gives us an estimation of the influence of each particular feature on the probability of the target being equal to one.\n",
    "\n",
    "We want to model how the probability that a person develops a severe COVID disease is affected by his/her age, sex, and size lung lesions.\n",
    "\n",
    "Let $y_i = 1$ if i-th person's develop severe symptoms. \n",
    "Logistic regression models this probabilty in the following way:\n",
    "\n",
    "\\begin{equation}\n",
    "p(y_i = 1 \\mid \\beta) = \\sigma (\\alpha + \\beta_0 age_i + \\beta_1 sex_i + \\dots ),\n",
    "\\end{equation}\n",
    "\n",
    "where $\\sigma(t) = \\frac1{1 + e^{-t}}$\n",
    "\n",
    "We can obtain a point estimate for the intercept $\\alpha$ and coefficients $\\beta_k$ using *sklearn* package.\n"
   ]
  },
  {
   "cell_type": "markdown",
   "metadata": {},
   "source": [
    "### Task 2.1: Define the logistic function\n",
    "\n",
    "To compute probabilities with the logistic regresion, we first need to define the logistic functions. Use `numpy` and complete the code function below so it returns the logistic function $\\sigma(t) = \\frac1{1 + e^{-t}}$. \n",
    "\n",
    "Test your system. The `logistic(1)` should return a value of `+- 0.731`."
   ]
  },
  {
   "cell_type": "code",
   "execution_count": 11,
   "metadata": {},
   "outputs": [
    {
     "data": {
      "text/plain": [
       "[0.7310585786300049, 0.8807970779778823, 0.9525741268224334]"
      ]
     },
     "execution_count": 11,
     "metadata": {},
     "output_type": "execute_result"
    }
   ],
   "source": [
    "import math\n",
    "def logistic(x):\n",
    "    '''\n",
    "    Considering the function below for computing confidence interval we get the input as 2D array.\n",
    "    If we just pass the logistic value for a one dimensional array then we will get error.\n",
    "    '''\n",
    "    res = []\n",
    "    for i in x:\n",
    "        for j in i:\n",
    "            val = 1 / (1 + math.exp(-j))\n",
    "            res.append(val)\n",
    "    return res\n",
    "logistic([[1,2,3]]) # Check"
   ]
  },
  {
   "cell_type": "markdown",
   "metadata": {},
   "source": [
    "Now lets fit a logistic regression model for COVID severity. The code below fits a logistic regression model for severity using only the `Age` and `Sex` features."
   ]
  },
  {
   "cell_type": "code",
   "execution_count": 12,
   "metadata": {
    "colab": {
     "base_uri": "https://localhost:8080/"
    },
    "executionInfo": {
     "elapsed": 9,
     "status": "ok",
     "timestamp": 1647438819211,
     "user": {
      "displayName": "Matias Nicolas Bossa",
      "photoUrl": "https://lh3.googleusercontent.com/a-/AOh14GjaVkfNlJBVIrT1Vc51lAnJMRJSYqv4USmq39111g=s64",
      "userId": "14202046060542788580"
     },
     "user_tz": -60
    },
    "id": "LSDZyq3W0Gzn",
    "outputId": "28ccac9b-c4d8-4d2a-8e3c-fcd2894a4875"
   },
   "outputs": [
    {
     "name": "stdout",
     "output_type": "stream",
     "text": [
      "Coefficients:\n",
      "[[ 0.03394394 -0.60484405]]\n",
      "\n",
      "Intercept:\n",
      "[-3.11923431]\n"
     ]
    }
   ],
   "source": [
    "from sklearn.linear_model import LogisticRegression\n",
    "\n",
    "X = np.vstack([df.Age, df.Sex]).T\n",
    "y = df.Severity.values\n",
    "lr = LogisticRegression(penalty='none')\n",
    "res = lr.fit(X, y)\n",
    "\n",
    "print('Coefficients:')\n",
    "print(res.coef_)\n",
    "print('')\n",
    "print('Intercept:')\n",
    "print(res.intercept_)"
   ]
  },
  {
   "cell_type": "markdown",
   "metadata": {
    "id": "lTJHN-NF6UoE"
   },
   "source": [
    "\n",
    "#### Confidence intervals\n",
    "\n",
    "The classical confidence intervals can be obtained using bootstrapping.\n",
    "We estimate the parameter for many random samples of the population and obtain an approximation of the sampling distribution of the coefficient estimate.\n",
    "\n",
    "This method is very general, as it is independent of the estimator and makes fewer assumptions than other methods.\n"
   ]
  },
  {
   "cell_type": "code",
   "execution_count": 13,
   "metadata": {
    "executionInfo": {
     "elapsed": 22572,
     "status": "ok",
     "timestamp": 1647438841778,
     "user": {
      "displayName": "Matias Nicolas Bossa",
      "photoUrl": "https://lh3.googleusercontent.com/a-/AOh14GjaVkfNlJBVIrT1Vc51lAnJMRJSYqv4USmq39111g=s64",
      "userId": "14202046060542788580"
     },
     "user_tz": -60
    },
    "id": "FXnysqgZ9hWY"
   },
   "outputs": [],
   "source": [
    "# Estimte confidence intervals with bootstrapping\n",
    "lr = LogisticRegression(penalty='none')\n",
    "N_bs = 1000\n",
    "# defining empty 2D coeficients and 1d intercepts. the coeficient are 2D as \n",
    "# we fit the model on both the age and sex features\n",
    "coef_bs = np.zeros([2,N_bs])\n",
    "int_bs = np.zeros([1,N_bs])\n",
    "\n",
    "# fitting 1000 models trained on a different random subset of the data \n",
    "#and storing there linear coeficients and intercept values\n",
    "for i in range(N_bs):\n",
    "    # creating a random set of input features \n",
    "    df_bs = df.loc[np.random.choice(df.index, df.shape[0])]\n",
    "    # creating feature vectores simular to previous example. Binarizing by string comparison \n",
    "    X = np.vstack([df_bs.Age, df_bs.Sex]).T\n",
    "    y = df_bs.Severity\n",
    "    res_bs = lr.fit(X, y)\n",
    "    coef_bs[:,i] = res_bs.coef_\n",
    "    int_bs[:,i] = res_bs.intercept_\n"
   ]
  },
  {
   "cell_type": "markdown",
   "metadata": {},
   "source": [
    "***\n",
    "#### Visualization and analysis of results\n",
    "\n",
    "The following figure illustrates the model predictions: mean and confidence intervals. In this population the risk of severity increases with age and is larger for males. The risk for a new subject from a similar population can be computed using the previous equation for $p(y_i = 1 \\mid \\beta)$.\n",
    "\n",
    "Given the number of parameters (3 in this case), and the number of observations (1205), there is no risk of model overfitting."
   ]
  },
  {
   "cell_type": "code",
   "execution_count": 14,
   "metadata": {
    "colab": {
     "base_uri": "https://localhost:8080/",
     "height": 279
    },
    "executionInfo": {
     "elapsed": 581,
     "status": "ok",
     "timestamp": 1647438842337,
     "user": {
      "displayName": "Matias Nicolas Bossa",
      "photoUrl": "https://lh3.googleusercontent.com/a-/AOh14GjaVkfNlJBVIrT1Vc51lAnJMRJSYqv4USmq39111g=s64",
      "userId": "14202046060542788580"
     },
     "user_tz": -60
    },
    "id": "lAnFHNq01GAb",
    "outputId": "fbd6cdfb-27c6-49d2-8d68-8249a5fb7ccf"
   },
   "outputs": [
    {
     "data": {
      "image/png": "[encoded data removed]",
      "text/plain": [
       "<Figure size 432x288 with 1 Axes>"
      ]
     },
     "metadata": {
      "needs_background": "light"
     },
     "output_type": "display_data"
    }
   ],
   "source": [
    "\n",
    "df[df.Sex==0].groupby(['Age']).Severity.apply(lambda x: np.mean(x)).plot(marker='o', color='Tab:red', linestyle='')\n",
    "df[df.Sex==1].groupby(['Age']).Severity.apply(lambda x: np.mean(x)).plot(marker='o', color='Tab:blue', linestyle='')\n",
    "\n",
    "age = np.linspace(20, 100, 100)\n",
    "\n",
    "# plotting for females, The second value of all X features should be 0. We use the age feature and multiply by 0 as it \n",
    "# already has the right shape \n",
    "X = np.vstack([age, age*0])\n",
    "# computing the confidence 2.5 and 97.5 confidence intervals for severity for female datapoints\n",
    "CI = np.percentile(logistic(int_bs.T + coef_bs.T @ X), [2.5, 97.5], axis=0)\n",
    "plt.plot(age, logistic(res.intercept_ + res.coef_ @ X), color='Tab:red', lw=1)\n",
    "plt.fill_between(age, CI[0], CI[1], color='Tab:red', alpha=0.1)\n",
    "\n",
    "plt.legend(['Proportion of severe cases (among females)', 'Proportion of severe cases (among males)', 'Model prediction', '95% CI'], loc=6)\n",
    "\n",
    "# plotting for females, The second value of all X features should be 0. We use the age feature and multiply by 0 + 1  as it \n",
    "# already has the right shape \n",
    "X = np.vstack([age, age*0 + 1])\n",
    "CI = np.percentile(logistic(int_bs.T + coef_bs.T @ X), [2.5, 97.5], axis=0)\n",
    "plt.plot(age, logistic(res.intercept_ + res.coef_ @ X), color='Tab:blue', lw=1)\n",
    "plt.fill_between(age, CI[0], CI[1], color='Tab:blue', alpha=0.1)\n",
    "\n",
    "# plotting density of age for 0 and 1 severity.\n",
    "\n",
    "plt.ylabel('Severity')\n",
    "plt.xlabel('Age')\n",
    "\n",
    "plt.axis([25,95, -0.1, 1.1]);"
   ]
  },
  {
   "cell_type": "markdown",
   "metadata": {
    "id": "T-OhxwjcS_yK"
   },
   "source": [
    "### Question 2.2: What can you conclude from this graph. What does it mean that the confidence intervals don't overlap? \n"
   ]
  },
  {
   "cell_type": "markdown",
   "metadata": {},
   "source": [
    "Answer to question 2.2: ...\n"
   ]
  },
  {
   "cell_type": "markdown",
   "metadata": {
    "id": "HJza8WPP0Zyw"
   },
   "source": [
    "***\n",
    "## Part 3: Add `GGO` and `Consolidation`  \n",
    "\n",
    "The previous model only explored the gender and age effect. In this part, we are going to add the `GGO` and `Consolidation` to the model. "
   ]
  },
  {
   "cell_type": "markdown",
   "metadata": {
    "id": "NQXDGyw-AB4w"
   },
   "source": [
    "### Task 3.1.\n",
    "\n",
    "Similar to the code provided in Part 2, retrain the model on all 4 features. Print the coefficients and intercept."
   ]
  },
  {
   "cell_type": "code",
   "execution_count": 15,
   "metadata": {
    "colab": {
     "base_uri": "https://localhost:8080/"
    },
    "executionInfo": {
     "elapsed": 12,
     "status": "ok",
     "timestamp": 1647438842338,
     "user": {
      "displayName": "Matias Nicolas Bossa",
      "photoUrl": "https://lh3.googleusercontent.com/a-/AOh14GjaVkfNlJBVIrT1Vc51lAnJMRJSYqv4USmq39111g=s64",
      "userId": "14202046060542788580"
     },
     "user_tz": -60
    },
    "id": "A__i5H2h0aC0",
    "outputId": "f63709d2-7679-4ebb-80cf-4ffca8253531"
   },
   "outputs": [
    {
     "name": "stdout",
     "output_type": "stream",
     "text": [
      "Coefficients:\n",
      "[[ 0.04053061 -0.42837992  4.17315051  8.32992088]]\n",
      "\n",
      "Intercept:\n",
      "[-4.46446791]\n"
     ]
    }
   ],
   "source": [
    "from sklearn.linear_model import LogisticRegression\n",
    "\n",
    "X1 = np.vstack([df.Age, df.Sex,df.GGO,df.Consolidation]).T\n",
    "y1 = df.Severity.values\n",
    "lr = LogisticRegression(penalty='none')\n",
    "res1 = lr.fit(X1, y1)\n",
    "\n",
    "print('Coefficients:')\n",
    "print(res1.coef_)\n",
    "print('')\n",
    "print('Intercept:')\n",
    "print(res1.intercept_)"
   ]
  },
  {
   "cell_type": "code",
   "execution_count": 16,
   "id": "6d95ce90",
   "metadata": {},
   "outputs": [],
   "source": [
    "# Estimte confidence intervals with bootstrapping\n",
    "lr = LogisticRegression(penalty='none')\n",
    "N_bs = 1000\n",
    "# defining empty 2D coeficients and 1d intercepts. the coeficient are 2D as \n",
    "# we fit the model on both the age and sex features\n",
    "coef_bs = np.zeros([4,N_bs])\n",
    "int_bs = np.zeros([1,N_bs])\n",
    "\n",
    "# fitting 1000 models trained on a different random subset of the data \n",
    "#and storing there linear coeficients and intercept values\n",
    "for i in range(N_bs):\n",
    "    # creating a random set of input features \n",
    "    df_bs = df.loc[np.random.choice(df.index, df.shape[0])]\n",
    "    # creating feature vectores simular to previous example. Binarizing by string comparison \n",
    "    X = np.vstack([df.Age, df.Sex,df.GGO,df.Consolidation]).T\n",
    "    y = df_bs.Severity\n",
    "    res_bs = lr.fit(X, y)\n",
    "    coef_bs[:,i] = res_bs.coef_\n",
    "    int_bs[:,i] = res_bs.intercept_\n"
   ]
  },
  {
   "cell_type": "markdown",
   "metadata": {},
   "source": [
    "### Question 3.1: The shape of the coefficient vector has changed, what do the values represent? Based on these values, what feature do you expect to have the highest impact on disease severity?"
   ]
  },
  {
   "cell_type": "markdown",
   "metadata": {},
   "source": [
    "Answer to question 3.1: ...\n"
   ]
  },
  {
   "cell_type": "markdown",
   "metadata": {},
   "source": [
    "### Task 3.2: Use the bootstrapping technique to create the confidence interval for the new model"
   ]
  },
  {
   "cell_type": "code",
   "execution_count": 31,
   "metadata": {
    "colab": {
     "base_uri": "https://localhost:8080/"
    },
    "executionInfo": {
     "elapsed": 24041,
     "status": "ok",
     "timestamp": 1647438866372,
     "user": {
      "displayName": "Matias Nicolas Bossa",
      "photoUrl": "https://lh3.googleusercontent.com/a-/AOh14GjaVkfNlJBVIrT1Vc51lAnJMRJSYqv4USmq39111g=s64",
      "userId": "14202046060542788580"
     },
     "user_tz": -60
    },
    "id": "dz3eclS0CERM",
    "outputId": "726741bb-0b58-48ed-d652-61fd01c7882e"
   },
   "outputs": [],
   "source": [
    "def draw_bs_replicates(data,func,size):\n",
    "    \"\"\"creates a bootstrap sample, computes replicates and returns replicates array\"\"\"\n",
    "    # Create an empty array to store replicates\n",
    "    bs_replicates = np.empty(size)\n",
    "    \n",
    "    # Create bootstrap replicates as much as size\n",
    "    for i in range(size):\n",
    "        # Create a bootstrap sample\n",
    "        bs_sample = np.random.choice(data,size=len(data))\n",
    "        # Get bootstrap replicate and append to bs_replicates\n",
    "        bs_replicates[i] = func(bs_sample)\n",
    "    \n",
    "    return bs_replicates"
   ]
  },
  {
   "cell_type": "code",
   "execution_count": 35,
   "id": "e0e161d5",
   "metadata": {},
   "outputs": [
    {
     "name": "stdout",
     "output_type": "stream",
     "text": [
      "Bootstrap replicates mean: 0.11723558526714511\n"
     ]
    }
   ],
   "source": [
    "bs_replicates_heights = draw_bs_replicates(df.GGO,np.mean,15000)\n",
    "\n",
    "# Print the mean of bootstrap replicates\n",
    "print(\"Bootstrap replicates mean: \" + str(np.mean(bs_replicates_heights)))"
   ]
  },
  {
   "cell_type": "code",
   "execution_count": 44,
   "id": "41043d82",
   "metadata": {},
   "outputs": [
    {
     "data": {
      "text/plain": [
       "<matplotlib.lines.Line2D at 0x7fa0680981c0>"
      ]
     },
     "execution_count": 44,
     "metadata": {},
     "output_type": "execute_result"
    },
    {
     "data": {
      "image/png": "[encoded data removed]",
      "text/plain": [
       "<Figure size 432x288 with 1 Axes>"
      ]
     },
     "metadata": {
      "needs_background": "light"
     },
     "output_type": "display_data"
    }
   ],
   "source": [
    "plt.hist(bs_replicates_heights,bins=30,density=True)\n",
    "\n",
    "# Showing the related percentiles\n",
    "plt.axvline(x=np.percentile(bs_replicates_heights,[2.5]), ymin=0, ymax=1,label='2.5th percentile',c='y')\n",
    "plt.axvline(x=np.percentile(bs_replicates_heights,[97.5]), ymin=0, ymax=1,label='97.5th percentile',c='r')"
   ]
  },
  {
   "cell_type": "code",
   "execution_count": 38,
   "id": "f3c419eb",
   "metadata": {},
   "outputs": [
    {
     "name": "stdout",
     "output_type": "stream",
     "text": [
      "The confidence interval:  [0.11020243 0.12462687]\n"
     ]
    }
   ],
   "source": [
    "conf_interval = np.percentile(bs_replicates_heights,[2.5,97.5])\n",
    "\n",
    "# Print the interval\n",
    "print(\"The confidence interval: \",conf_interval)"
   ]
  },
  {
   "cell_type": "markdown",
   "metadata": {},
   "source": [
    "### Task 3.3: Visualize the results of `Consolidation` and `GGO`: \n",
    "As we now have multi-dimensional and continous data, we have to apply some tricks to plot the results.\n",
    "\n",
    "Firstly, to reduce the dimensionality, we will only focus on males. \n",
    "Secondly, as logistic regression model is a linear model, we can simply average out features. \n",
    "\n",
    "Furthermore, `Consolidation` and `GGO` are continous values. To assess their full impact, we will use the 10th and 90th percentiles. This reflects a high or low value of `Consolidation` and `GGO`.\n",
    "\n",
    "__Hint 1:__ Create `X` such that you only have males.\n",
    "\n",
    "__Hint 2:__ Set the `GGO` value to its mean in `X` when inspecting the impact of consolidation and vice versa.\n",
    "\n",
    "__Hint 3:__ To create 2 plots, use the 10th and 90th percentile values in `X` for the feature of interest. \n",
    "\n",
    "__Hint 4:__ You do not need to have the pointplots here as we do not have cathegorical data for the `GGO` and` Consolidation`.\n"
   ]
  },
  {
   "cell_type": "code",
   "execution_count": 65,
   "metadata": {
    "colab": {
     "base_uri": "https://localhost:8080/",
     "height": 279
    },
    "executionInfo": {
     "elapsed": 400,
     "status": "ok",
     "timestamp": 1647438866750,
     "user": {
      "displayName": "Matias Nicolas Bossa",
      "photoUrl": "https://lh3.googleusercontent.com/a-/AOh14GjaVkfNlJBVIrT1Vc51lAnJMRJSYqv4USmq39111g=s64",
      "userId": "14202046060542788580"
     },
     "user_tz": -60
    },
    "id": "U2y4IyM0FTvt",
    "outputId": "61cc62e9-3161-4501-8638-c1949badb8bf"
   },
   "outputs": [
    {
     "name": "stdout",
     "output_type": "stream",
     "text": [
      "Bootstrap replicates mean: 0.13136490788278707\n"
     ]
    },
    {
     "data": {
      "text/plain": [
       "<matplotlib.lines.Line2D at 0x7fa067dc8730>"
      ]
     },
     "execution_count": 65,
     "metadata": {},
     "output_type": "execute_result"
    },
    {
     "data": {
      "image/png": "[encoded data removed]",
      "text/plain": [
       "<Figure size 432x288 with 1 Axes>"
      ]
     },
     "metadata": {
      "needs_background": "light"
     },
     "output_type": "display_data"
    }
   ],
   "source": [
    "# Code for impact of GGO \n",
    "male_data = df[df.Sex == 0]\n",
    "ggo_CI = draw_bs_replicates(male_data.GGO,np.mean,15000)\n",
    "# Print the mean of bootstrap replicates\n",
    "print(\"Bootstrap replicates mean: \" + str(np.mean(ggo_CI)))\n",
    "\n",
    "plt.hist(ggo_CI,bins=30,density=True)\n",
    "\n",
    "# Showing the related percentiles\n",
    "plt.axvline(x=np.percentile(ggo_CI,[10]), ymin=0, ymax=1,label='2.5th percentile',c='y')\n",
    "plt.axvline(x=np.percentile(ggo_CI,[90]), ymin=0, ymax=1,label='97.5th percentile',c='r')"
   ]
  },
  {
   "cell_type": "code",
   "execution_count": 64,
   "metadata": {
    "colab": {
     "base_uri": "https://localhost:8080/",
     "height": 279
    },
    "executionInfo": {
     "elapsed": 483,
     "status": "ok",
     "timestamp": 1647438867227,
     "user": {
      "displayName": "Matias Nicolas Bossa",
      "photoUrl": "https://lh3.googleusercontent.com/a-/AOh14GjaVkfNlJBVIrT1Vc51lAnJMRJSYqv4USmq39111g=s64",
      "userId": "14202046060542788580"
     },
     "user_tz": -60
    },
    "id": "-zhK9K_0GIPh",
    "outputId": "a7b9d5fa-5514-411d-abad-3056f150811f"
   },
   "outputs": [
    {
     "name": "stdout",
     "output_type": "stream",
     "text": [
      "Bootstrap replicates mean: 0.033573228104737174\n"
     ]
    },
    {
     "data": {
      "text/plain": [
       "<matplotlib.lines.Line2D at 0x7fa06835f9d0>"
      ]
     },
     "execution_count": 64,
     "metadata": {},
     "output_type": "execute_result"
    },
    {
     "data": {
      "image/png": "[encoded data removed]",
      "text/plain": [
       "<Figure size 432x288 with 1 Axes>"
      ]
     },
     "metadata": {
      "needs_background": "light"
     },
     "output_type": "display_data"
    }
   ],
   "source": [
    "# Code for impact of Consolidation \n",
    "cons_CI = draw_bs_replicates(male_data.Consolidation,np.mean,15000)\n",
    "# Print the mean of bootstrap replicates\n",
    "print(\"Bootstrap replicates mean: \" + str(np.mean(cons_CI)))\n",
    "\n",
    "plt.hist(cons_CI,bins=30,density=True)\n",
    "\n",
    "# Showing the related percentiles\n",
    "plt.axvline(x=np.percentile(cons_CI,[10]), ymin=0, ymax=1,label='2.5th percentile',c='y')\n",
    "plt.axvline(x=np.percentile(cons_CI,[90]), ymin=0, ymax=1,label='97.5th percentile',c='r')"
   ]
  },
  {
   "cell_type": "markdown",
   "metadata": {},
   "source": [
    "### Question 3.2: What can you say on the impact on severity from `GGO` and `Consolidation`? Which one has the highest impact ? "
   ]
  },
  {
   "cell_type": "markdown",
   "metadata": {
    "id": "PcSfqn5eUFEs"
   },
   "source": [
    "Answer to Question 3.2: ...\n"
   ]
  },
  {
   "cell_type": "markdown",
   "metadata": {},
   "source": [
    "### Question 3.3: Does this insight agrees with your answer to Q3.1? Why could this happen? \n",
    "__Hint:__ Have a look at the density plots you made in Part 1."
   ]
  },
  {
   "cell_type": "markdown",
   "metadata": {},
   "source": [
    "Answer to Question 3.3: ..."
   ]
  },
  {
   "cell_type": "markdown",
   "metadata": {},
   "source": [
    "## Part 4: Comparison with a random forrest classifier\n",
    "\n",
    "Now we are going to change the code of Task 2.1 to work with a random forest clasffier. Random forrest classifiers are more complex models with more degrees of freedom compared to the logistic regression. \n",
    "\n",
    "The code below performs the same regression with a random forrest classifier. "
   ]
  },
  {
   "cell_type": "code",
   "execution_count": 17,
   "metadata": {},
   "outputs": [],
   "source": [
    "from sklearn.ensemble import RandomForestClassifier\n",
    "\n",
    "X = np.vstack([df.Age, df.Sex]).T\n",
    "y = df.Severity.values\n",
    "\n",
    "clf = RandomForestClassifier(n_estimators=100, max_depth=None,\n",
    "    min_samples_split=100, random_state=0)\n",
    "\n",
    "classifier = clf.fit(X,y)"
   ]
  },
  {
   "cell_type": "code",
   "execution_count": 19,
   "metadata": {},
   "outputs": [
    {
     "data": {
      "image/png": "[encoded data removed]",
      "text/plain": [
       "<Figure size 432x288 with 1 Axes>"
      ]
     },
     "metadata": {
      "needs_background": "light"
     },
     "output_type": "display_data"
    }
   ],
   "source": [
    "df[df.Sex==0].groupby(['Age']).Severity.apply(lambda x: np.mean(x)).plot(marker='o', color='Tab:red', linestyle='')\n",
    "df[df.Sex==1].groupby(['Age']).Severity.apply(lambda x: np.mean(x)).plot(marker='o', color='Tab:blue', linestyle='')\n",
    "age = np.linspace(20, 100, 100)\n",
    "X = np.vstack([age, age*0])\n",
    "predictions = classifier.predict_proba(X.T)\n",
    "plt.plot(age, predictions[:,1], color='Tab:red', lw=1)\n",
    "age = np.linspace(20, 100, 100)\n",
    "X = np.vstack([age, age*0+1])\n",
    "predictions = classifier.predict_proba(X.T)\n",
    "plt.plot(age, predictions[:,1], color='Tab:blue', lw=1)\n",
    "plt.ylabel('Severity')\n",
    "plt.xlabel('Age')\n",
    "plt.axis([25,95, -0.1*1, 1.1*1]);"
   ]
  },
  {
   "cell_type": "markdown",
   "metadata": {},
   "source": [
    "### Question 4.1:  How does this model compares to the bootstrapped logistic model in Part 2?"
   ]
  },
  {
   "cell_type": "markdown",
   "metadata": {},
   "source": [
    "Answer to Question 4.1: ..."
   ]
  },
  {
   "cell_type": "markdown",
   "metadata": {},
   "source": [
    "### Optional task 4.2 : Try adding confidence intervals with bootstrapping techniques for the Random Forest model. "
   ]
  },
  {
   "cell_type": "code",
   "execution_count": null,
   "id": "0f4d0957",
   "metadata": {},
   "outputs": [],
   "source": []
  },
  {
   "cell_type": "markdown",
   "metadata": {},
   "source": []
  }
 ],
 "metadata": {
  "colab": {
   "collapsed_sections": [],
   "name": "PracticalRegression.ipynb",
   "provenance": []
  },
  "kernelspec": {
   "display_name": "venv",
   "language": "python",
   "name": "venv"
  },
  "language_info": {
   "codemirror_mode": {
    "name": "ipython",
    "version": 3
   },
   "file_extension": ".py",
   "mimetype": "text/x-python",
   "name": "python",
   "nbconvert_exporter": "python",
   "pygments_lexer": "ipython3",
   "version": "3.8.5"
  },
  "latex_envs": {
   "LaTeX_envs_menu_present": true,
   "autocomplete": true,
   "bibliofile": "biblio.bib",
   "cite_by": "apalike",
   "current_citInitial": 1,
   "eqLabelWithNumbers": true,
   "eqNumInitial": 1,
   "hotkeys": {
    "equation": "Ctrl-E",
    "itemize": "Ctrl-I"
   },
   "labels_anchors": false,
   "latex_user_defs": false,
   "report_style_numbering": false,
   "user_envs_cfg": false
  }
 },
 "nbformat": 4,
 "nbformat_minor": 5
}
