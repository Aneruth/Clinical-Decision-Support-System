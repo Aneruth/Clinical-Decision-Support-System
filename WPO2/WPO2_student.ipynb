{
 "cells": [
  {
   "cell_type": "markdown",
   "metadata": {
    "nbgrader": {
     "grade": false,
     "grade_id": "cell-7d39188686aa0d09",
     "locked": true,
     "schema_version": 1,
     "solution": false
    }
   },
   "source": [
    "## Health Information Systems and Decision Support Systems\n",
    "## WPO 2: Data-driven systems  (04/03/22)\n",
    "****\n",
    "*Jakub Ceranka, Pieter Boonen, Panagiotis Gonidakis, Jef Vandemeulebroucke* <br>\n",
    "*Department of Electronics and Informatics (ETRO)* <br>\n",
    "*Vrije Universiteit Brussel, Pleinlaan 2, B-1050 Brussels, Belgium*"
   ]
  },
  {
   "cell_type": "markdown",
   "metadata": {},
   "source": [
    "<font color=red>\n",
    "Aneruth Mohansundaram - 0573520 (VUB) <br><br>\n",
    "Ishan Raychaudhuri - 0574056 (VUB)\n",
    "</font>"
   ]
  },
  {
   "cell_type": "markdown",
   "metadata": {
    "nbgrader": {
     "grade": false,
     "grade_id": "cell-6c5875e85168bc04",
     "locked": true,
     "schema_version": 1,
     "solution": false
    }
   },
   "source": [
    "### Goal\n",
    "The goal of this practical session is to get an insight into methods and algorithms for building knowledge-based decision-support systems. Your tasks will involve designing the systems, examining the output, tuning the parameters and validating the performance of your system against the ground-truth predictions done manually by an experienced radiologist. Students must send their notebook via Canvas Assignment functionality before the __11th of March, 2022, 23:59__. The grade from this practical session will contribute to your final grade. Questions: [jceranka@etrovub.be](mailto:jceranka@etrovub.be), [jwuts@etrovub.be](mailto:jwuts@etrovub.be)"
   ]
  },
  {
   "cell_type": "markdown",
   "metadata": {
    "nbgrader": {
     "grade": false,
     "grade_id": "cell-ec1409430738c87f",
     "locked": true,
     "schema_version": 1,
     "solution": false
    }
   },
   "source": [
    "### Libraries\n",
    "\n",
    "During this practical session, the following libraries will be used. You can use different version of libraries, however we recommend the following build:\n",
    "\n",
    "- [__Scikit-fuzzy__](https://pypi.python.org/pypi/scikit-fuzzy): library for fuzzy sets and logic __V 0.3.1__ \n",
    "- [__Numpy__](https://docs.scipy.org/doc/numpy-dev/user/quickstart.html):      library used for scientific computing containing N-dimensional arrays, functions and Fourier transform. __V 1.13.3__ \n",
    "- [__Graphviz__](https://pypi.python.org/pypi/graphviz):     Visualization of graphs. You may need to the perform installation via conda.  __V 0.8.2__ \n",
    "- [__Matplotlib__](https://matplotlib.org/users/pyplot_tutorial.html): plotting library used for the visualization of data from python. __V 2.1.0__ \n",
    "- [__Pgmpy__](http://pgmpy.org/): Module for building and performing inference on probabilistic graphical models __V 0.2.1__ \n",
    "\n",
    "\n",
    "To import any external library, you need to import it using the **import** statement followed by the name of the library and the shortcut. You can additionally check for the module version using __version__ command. Information on updating the libraries using Anaconda can be found  [here](http://conda-test.pydata.org/docs/examples/update.html).\n",
    "<br><br>\n",
    "If the library is not installed in your Anaconda Navigator or Python simply type in your terminal: *conda install package_name* or *pip install package_name*."
   ]
  },
  {
   "cell_type": "markdown",
   "metadata": {
    "nbgrader": {
     "grade": false,
     "grade_id": "cell-0e6961adb9be6d43",
     "locked": true,
     "schema_version": 1,
     "solution": false
    }
   },
   "source": [
    "## Part 1: A fuzzy logic alert system at the pediatric ICU\n",
    "At the intensive care unit of a pediatric hospital, the staff wants to implement a priority-based alert system that allows to rank the urgency of the different monitors of physiological signs of the infants. The physiological sensor outputs are combined with patient-specific information (age, history, etc,) to determine the urgency. The output of each monitor should be a value between 0 (no alert) and 100 (alert with the highest priority), allowing the output of all monitors to be ranked in terms of urgency. The responsible nurse is notified of the most urgent which needs to be addressed first. "
   ]
  },
  {
   "cell_type": "markdown",
   "metadata": {
    "nbgrader": {
     "grade": false,
     "grade_id": "cell-d1411f4ab2c769e3",
     "locked": true,
     "schema_version": 1,
     "solution": false
    }
   },
   "source": [
    "### Task 1: Design a monitor system for body temperature\n",
    "The output of a temperature sensor should be combined with the (priorly given) age of the patient. The variables to consider are:\n",
    "\n",
    "* Temperature\n",
    "   - The temperature in degrees Celcius. \n",
    "       * Values of about 35,5 and below are `hypothermia`\n",
    "       * Values of  roughly 37 are  `normal`\n",
    "       * Values between roughly 37,5 and 38 are `elevated`\n",
    "       * Values of around 38,5 indicate `mild fever`\n",
    "       * Values of 39 and higher indicate `high fever`\n",
    "       * Values outside of the range [30,44] are likely to indicate malfunctioning of the sensor\n",
    "       \n",
    "* Age\n",
    "   - The age of the infant in months, from 0 to 36 \n",
    "       * We make a distinction between newborns (0-3 months), babies (3-6 months), infants (6-12 months) and toddlers (12-36 months)\n",
    "\n",
    "* Alert-level\n",
    "   -  A value between 0 and 100\n",
    "       * Five levels are distinguished: no alert, low, moderate, high, critical \n",
    "\n",
    "\n",
    "The behaviour of the monitoring system should be the following. \n",
    "    * For newborns, elevated temperature should give a moderate alert, a mild fever should correspond to a high alert, and a high fever should correspond to critical alert-level. \n",
    "    \n",
    "    * Babies with a mild fever should give a moderate alarm, while high fever should be high alert. \n",
    "    \n",
    "    * Infants with a mild fever should be a low priority alert, and high fever should be moderate alert. \n",
    "    \n",
    "    * Toddlers with a mild and high fever both should give a low alert. \n",
    "    \n",
    "    * Hypothermia should always give a high alert level, except for newborns where it should be critical.\n",
    "    \n",
    "    * Malfunctioning sensors should always give a moderate alert. \n",
    "\n",
    "The alert level should evolve continuously for ages and temperatures in the correct functioning range of the sensor, and have a logical progression for values not mentioned above. "
   ]
  },
  {
   "cell_type": "markdown",
   "metadata": {
    "nbgrader": {
     "grade": false,
     "grade_id": "cell-f42f3f8bdabfd1c3",
     "locked": true,
     "schema_version": 1,
     "solution": false
    }
   },
   "source": [
    "Use the packages *skfuzzy* and *matplotlib* to design and visualize a fuzzy logic controller. Instead of *%matplotlib inline* you can use *%matplotlib notebook*, which provide interactive plots.\n"
   ]
  },
  {
   "cell_type": "markdown",
   "metadata": {
    "nbgrader": {
     "grade": false,
     "grade_id": "cell-be3e9070fca0a154",
     "locked": true,
     "schema_version": 1,
     "solution": false
    }
   },
   "source": [
    "### Step 1: Define and visualize the membership funtions\n",
    "Use custom triangular and trapezoid membership functions for the temperature and age, and have at least 1 degree Celcius and 2 months of overlap between functions on each side, respectively. Ensure the total membership is always one. You can use an automatically generated membership function for the alert-level. Have a look at the examples for the syntax (http://pythonhosted.org/scikit-fuzzy/auto_examples/index.html). "
   ]
  },
  {
   "cell_type": "code",
   "execution_count": 1,
   "metadata": {},
   "outputs": [],
   "source": [
    "# Importing the package\n",
    "#Import required libraries\n",
    "import numpy as np\n",
    "import skfuzzy as fuzz\n",
    "from skfuzzy import control as ctrl\n",
    "import matplotlib.pyplot as plt"
   ]
  },
  {
   "cell_type": "code",
   "execution_count": 2,
   "metadata": {
    "collapsed": true
   },
   "outputs": [],
   "source": [
    "#Creation of the membership functions\n",
    "\n",
    "# Generate universe variables\n",
    "temperature = np.arange(0, 50, 0.5)\n",
    "age = np.arange(0, 37, 1)\n",
    "alert = np.arange(0, 101, 1)\n",
    "\n",
    "# Generate fuzzy membership \n",
    "\n",
    "age_new = fuzz.trapmf(age, [0, 0, 2, 4])\n",
    "age_baby = fuzz.trapmf(age, [2, 4, 5, 7])\n",
    "age_infant = fuzz.trapmf(age, [5, 7, 11, 13])\n",
    "age_todd = fuzz.trapmf(age, [11, 13, 36, 36])\n",
    "\n",
    "tem_malfunct_low = fuzz.trapmf(temperature, [0, 0, 29.5, 30.5])\n",
    "tem_hypo = fuzz.trapmf(temperature, [29.5, 30.5, 35, 36])\n",
    "tem_norm = fuzz.trimf(temperature, [35, 36, 37])\n",
    "tem_ele = fuzz.trimf(temperature, [36, 37, 38])\n",
    "tem_mild = fuzz.trimf(temperature, [37, 38, 39])\n",
    "tem_high = fuzz.trapmf(temperature, [38, 39, 43, 44])\n",
    "tem_malfunct_high = fuzz.trapmf(temperature, [43, 44, 50, 50])\n",
    "\n",
    "alert_no = fuzz.trimf(alert, [0, 0, 25])\n",
    "alert_low = fuzz.trimf(alert, [0, 25, 50])\n",
    "alert_mod = fuzz.trimf(alert, [25, 50, 75])\n",
    "alert_high = fuzz.trimf(alert, [50, 75, 100])\n",
    "alert_critical = fuzz.trimf(alert, [75, 100, 100])"
   ]
  },
  {
   "cell_type": "code",
   "execution_count": 3,
   "metadata": {},
   "outputs": [],
   "source": [
    "# Create Antecedent/Consequent \n",
    "\n",
    "age_ant = ctrl.Antecedent(age, 'age')\n",
    "\n",
    "age_ant[\"newborn\"] = age_new\n",
    "age_ant[\"babies\"] = age_baby \n",
    "age_ant[\"infants\"] = age_infant\n",
    "age_ant[\"toddlers\"] = age_todd\n",
    "\n",
    "temperature_ant = ctrl.Antecedent(temperature, 'temperature')\n",
    "\n",
    "temperature_ant['malfunction low'] = tem_malfunct_low\n",
    "temperature_ant['hypothermia'] = tem_hypo\n",
    "temperature_ant['normal'] = tem_norm\n",
    "temperature_ant['elevated'] = tem_ele\n",
    "temperature_ant['mild fever'] = tem_mild\n",
    "temperature_ant['high fever'] = tem_high\n",
    "temperature_ant['malfunction high'] = tem_malfunct_high\n",
    "\n",
    "alert_con = ctrl.Consequent(alert, 'alert')\n",
    "\n",
    "alert_con[\"no alert\"] = alert_no\n",
    "alert_con[\"low\"] = alert_low\n",
    "alert_con[\"moderate\"] = alert_mod \n",
    "alert_con[\"high\"] = alert_high\n",
    "alert_con[\"critical\"] = alert_critical"
   ]
  },
  {
   "cell_type": "code",
   "execution_count": 4,
   "metadata": {},
   "outputs": [
    {
     "data": {
      "image/png": "[encoded data removed]",
      "text/plain": [
       "<Figure size 576x648 with 3 Axes>"
      ]
     },
     "metadata": {
      "needs_background": "light"
     },
     "output_type": "display_data"
    }
   ],
   "source": [
    "# Visualize these universes and membership functions\n",
    "fig, (ax0, ax1, ax2) = plt.subplots(nrows=3, figsize=(8, 9))\n",
    "\n",
    "ax0.plot(age, age_new, 'b', linewidth=1.5, label='Newborn')\n",
    "ax0.plot(age, age_baby, 'g', linewidth=1.5, label='Baby')\n",
    "ax0.plot(age, age_infant, 'r', linewidth=1.5, label='Infant')\n",
    "ax0.plot(age, age_todd, 'y', linewidth=1.5, label='Toddler')\n",
    "ax0.set_title('Age Membership function')\n",
    "ax0.legend()\n",
    "\n",
    "ax1.plot(temperature, tem_malfunct_low, 'k', linewidth=1.5, label='Malfunction low')\n",
    "ax1.plot(temperature, tem_hypo, 'b', linewidth=1.5, label='Hypothermia')\n",
    "ax1.plot(temperature, tem_norm, 'g', linewidth=1.5, label='Normal')\n",
    "ax1.plot(temperature, tem_ele, 'r', linewidth=1.5, label='Elevated')\n",
    "ax1.plot(temperature, tem_mild, 'y', linewidth=1.5, label='Mild fever')\n",
    "ax1.plot(temperature, tem_high, 'm', linewidth=1.5, label='High fever')\n",
    "ax1.plot(temperature, tem_malfunct_high, 'k', linewidth=1.5, label='Malfunction high')\n",
    "ax1.set_title('Temperatue Membership function')\n",
    "ax1.legend()\n",
    "\n",
    "\n",
    "\n",
    "ax2.plot(alert, alert_no, 'b', linewidth=1.5, label='No')\n",
    "ax2.plot(alert, alert_low, 'g', linewidth=1.5, label='Low')\n",
    "ax2.plot(alert, alert_mod, 'r', linewidth=1.5, label='Moderated')\n",
    "ax2.plot(alert, alert_high, 'y', linewidth=1.5, label='High')\n",
    "ax2.plot(alert, alert_critical, 'm', linewidth=1.5, label='Critical')\n",
    "ax2.set_title('Alert Membership function')\n",
    "ax2.legend()\n",
    "\n",
    "# Turn off top/right axes\n",
    "for ax in (ax0, ax1, ax2):\n",
    "    ax.spines['top'].set_visible(False)\n",
    "    ax.spines['right'].set_visible(False)\n",
    "    ax.get_xaxis().tick_bottom()\n",
    "    ax.get_yaxis().tick_left()\n",
    "\n",
    "plt.tight_layout()"
   ]
  },
  {
   "cell_type": "markdown",
   "metadata": {
    "nbgrader": {
     "grade": false,
     "grade_id": "cell-7c74fdfa799f7d1f",
     "locked": true,
     "schema_version": 1,
     "solution": false
    }
   },
   "source": [
    "### Step 2: Define the rules\n",
    "Translate the desired behaviour given above, to rules for alert levels. Start by only defining those which are given. More may be needed, after inspecting the output (Step 4)."
   ]
  },
  {
   "cell_type": "code",
   "execution_count": 5,
   "metadata": {
    "collapsed": true
   },
   "outputs": [],
   "source": [
    "\"\"\"Rules\n",
    "0. For newborns, elevated temperature should give a moderate alert\n",
    "1. For newborns, a mild fever should correspond to a high alert\n",
    "2. For newborns, a high fever should correspond to critical alert-level\n",
    "3. Babies with a mild fever should give a moderate alarm \n",
    "4. Babies with high fever should be high alert\n",
    "5. Infants with a mild fever should be a low priority alert, \n",
    "6. Infants with high fever should be moderate alert\n",
    "7. Toddlers with a mild and high fever both should give a low alert\n",
    "8. Hypothermia should always give a high alert level, except for newborns where it should be critical\n",
    "9. Hypothermia and newborns should be critical\n",
    "10. Malfunctioning sensors should always give a moderate alert\n",
    "\"\"\"\n",
    "rule0 = ctrl.Rule(antecedent=(age_ant[\"newborn\"] & temperature_ant[\"elevated\"]), \n",
    "                  consequent = alert_con[\"moderate\"])\n",
    "\n",
    "rule1 = ctrl.Rule(antecedent=(age_ant[\"newborn\"] & temperature_ant[\"mild fever\"]), \n",
    "                  consequent = alert_con[\"high\"])\n",
    "\n",
    "rule2 = ctrl.Rule(antecedent=(age_ant[\"newborn\"] & temperature_ant[\"high fever\"]), \n",
    "                  consequent = alert_con[\"critical\"])\n",
    "\n",
    "rule3 = ctrl.Rule(antecedent=(age_ant[\"babies\"] & temperature_ant[\"mild fever\"]), \n",
    "                  consequent = alert_con[\"moderate\"])\n",
    "\n",
    "rule4 = ctrl.Rule(antecedent=(age_ant[\"babies\"] & temperature_ant[\"high fever\"]), \n",
    "                  consequent = alert_con[\"high\"])\n",
    "\n",
    "rule5 = ctrl.Rule(antecedent=(age_ant[\"infants\"] & temperature_ant[\"mild fever\"]), \n",
    "                  consequent = alert_con[\"low\"])\n",
    "\n",
    "rule6 = ctrl.Rule(antecedent=(age_ant[\"infants\"] & temperature_ant[\"high fever\"]), \n",
    "                  consequent = alert_con[\"moderate\"])\n",
    "\n",
    "rule7 = ctrl.Rule(antecedent=(age_ant[\"toddlers\"] & (temperature_ant[\"mild fever\"] | temperature_ant[\"high fever\"])), \n",
    "                  consequent = alert_con[\"low\"])\n",
    "\n",
    "rule8 = ctrl.Rule(antecedent=((~ age_ant[\"newborn\"]) & temperature_ant[\"hypothermia\"]), \n",
    "                  consequent = alert_con[\"high\"])\n",
    "\n",
    "rule9 = ctrl.Rule(antecedent=(age_ant[\"newborn\"] & temperature_ant[\"hypothermia\"]), \n",
    "                  consequent = alert_con[\"critical\"])\n",
    "\n",
    "rule10 = ctrl.Rule(antecedent=(temperature_ant[\"malfunction low\"] | (temperature_ant[\"malfunction high\"])), \n",
    "                  consequent = alert_con[\"moderate\"])\n",
    "\n",
    "rule11 = ctrl.Rule(antecedent=(temperature_ant['normal'] | (age_ant[\"toddlers\"] & temperature_ant['elevated']) | (age_ant['infants'] & temperature_ant['elevated'])), \n",
    "                  consequent=alert_con['no alert'])\n",
    "\n",
    "rule12 = ctrl.Rule(antecedent=((age_ant['babies'] & temperature_ant['elevated'])), \n",
    "                  consequent = alert_con[\"low\"])\n"
   ]
  },
  {
   "cell_type": "markdown",
   "metadata": {
    "nbgrader": {
     "grade": false,
     "grade_id": "cell-c426700f701af68a",
     "locked": true,
     "schema_version": 1,
     "solution": false
    }
   },
   "source": [
    "### Step 3: Load and test the system\n",
    "Make a control system by loading the rules. Now verify the output for particular inputs using the control system simulation. Output the alert level, and visualize the alert membership. __Tip:__ use the functions ctrl.ControlSystemSimulation and alert.view(). \n"
   ]
  },
  {
   "cell_type": "code",
   "execution_count": 6,
   "metadata": {
    "collapsed": true
   },
   "outputs": [
    {
     "name": "stdout",
     "output_type": "stream",
     "text": [
      "22.023809523809522\n"
     ]
    },
    {
     "name": "stderr",
     "output_type": "stream",
     "text": [
      "/Users/aneruthmohanasundaram/Documents/GitHub/Clinical-Decision-Support-System/venv/lib/python3.8/site-packages/skfuzzy/control/fuzzyvariable.py:122: UserWarning: Matplotlib is currently using module://matplotlib_inline.backend_inline, which is a non-GUI backend, so cannot show the figure.\n",
      "  fig.show()\n"
     ]
    },
    {
     "data": {
      "image/png": "[encoded data removed]",
      "text/plain": [
       "<Figure size 432x288 with 1 Axes>"
      ]
     },
     "metadata": {
      "needs_background": "light"
     },
     "output_type": "display_data"
    }
   ],
   "source": [
    "alerting_ctrl = ctrl.ControlSystem([rule0, rule1, rule2, rule3, rule4, rule5, rule6, rule7, rule8, rule9, rule10, rule11, rule12])\n",
    "\n",
    "alerting = ctrl.ControlSystemSimulation(alerting_ctrl)\n",
    "alerting.input['temperature'] = 37.5\n",
    "alerting.input['age'] = 10\n",
    "alerting.compute()\n",
    "\n",
    "print(alerting.output['alert'])\n",
    "alert_con.view(sim=alerting)"
   ]
  },
  {
   "cell_type": "markdown",
   "metadata": {
    "nbgrader": {
     "grade": false,
     "grade_id": "cell-f2e97b2e207396e0",
     "locked": true,
     "schema_version": 1,
     "solution": false
    }
   },
   "source": [
    "### Step 4: Test the system\n",
    "\n",
    "Make plots of the evolution of the alerts, for the following cases\n",
    "\n",
    "    * For an age of 1 month, the alert level as a function of the temperature [28, 50] with increments of 0.5.\n",
    "    * For an age of 8 months, the alert level as a function of the temperature [28, 50] with increments of 0.5.\n",
    "    * For a temperature of 38.5 degrees Celcius, the alert level as a function of the age [1,36] with increments of 1.\n",
    "    * For a temperature of 40 degrees Celcius, the alert level as a function of the age [1,36] with increments of 1.\n",
    "    \n",
    "Add rules for cases not currently covered (and which may give errors due to sparsity in the inference engine).\n",
    "\n",
    "\n",
    "        "
   ]
  },
  {
   "cell_type": "code",
   "execution_count": 7,
   "metadata": {
    "collapsed": true
   },
   "outputs": [
    {
     "data": {
      "image/png": "[encoded data removed]",
      "text/plain": [
       "<Figure size 576x360 with 1 Axes>"
      ]
     },
     "metadata": {
      "needs_background": "light"
     },
     "output_type": "display_data"
    }
   ],
   "source": [
    "# For an age of 1 month, the alert level as a function of the temperature [28, 50] with increments of 0.5.\n",
    "\n",
    "x = np.arange(28, 50.5, 0.5)\n",
    "y = []\n",
    "\n",
    "alerting_ctrl = ctrl.ControlSystem([rule0, rule1, rule2, rule3, rule4, rule5, rule6, rule7, rule8, rule9, rule10, rule11])\n",
    "alerting = ctrl.ControlSystemSimulation(alerting_ctrl)\n",
    "\n",
    "for i in x:\n",
    "  alerting.input['temperature'] = i\n",
    "  alerting.input['age'] = 1\n",
    "  alerting.compute()\n",
    "  y.append(alerting.output['alert'])\n",
    "\n",
    "plt.figure(figsize=(8, 5))\n",
    "plt.plot(x,y)\n",
    "plt.title('Alert level as a function of temperature from 28°C to 50 °C for 1 month of age')\n",
    "plt.xlabel('Temperature [°C]')\n",
    "plt.ylabel('Alert level')\n",
    "plt.grid()"
   ]
  },
  {
   "cell_type": "code",
   "execution_count": 8,
   "metadata": {},
   "outputs": [
    {
     "data": {
      "image/png": "[encoded data removed]",
      "text/plain": [
       "<Figure size 576x360 with 1 Axes>"
      ]
     },
     "metadata": {
      "needs_background": "light"
     },
     "output_type": "display_data"
    }
   ],
   "source": [
    "# For an age of 8 months, the alert level as a function of the temperature [28, 50] with increments of 0.5.\n",
    "\n",
    "x = np.arange(28, 50.5, 0.5)\n",
    "y = []\n",
    "\n",
    "alerting_ctrl = ctrl.ControlSystem([rule0, rule1, rule2, rule3, rule4, rule5, rule6, rule7, rule8, rule9, rule10, rule11])\n",
    "alerting = ctrl.ControlSystemSimulation(alerting_ctrl)\n",
    "\n",
    "for i in x:\n",
    "  alerting.input['temperature'] = i\n",
    "  alerting.input['age'] = 8\n",
    "  alerting.compute()\n",
    "  y.append(alerting.output['alert'])\n",
    "\n",
    "plt.figure(figsize=(8, 5))\n",
    "plt.plot(x,y)\n",
    "plt.title('Alert level as a function of temperature from 28°C to 50 °C for 8 months of age')\n",
    "plt.xlabel('Temperature [°C]')\n",
    "plt.ylabel('Alert level')\n",
    "plt.grid()"
   ]
  },
  {
   "cell_type": "code",
   "execution_count": 9,
   "metadata": {},
   "outputs": [
    {
     "data": {
      "image/png": "[encoded data removed]",
      "text/plain": [
       "<Figure size 576x360 with 1 Axes>"
      ]
     },
     "metadata": {
      "needs_background": "light"
     },
     "output_type": "display_data"
    }
   ],
   "source": [
    "# For a temperature of 38.5 degrees Celcius, the alert level as a function of the age [1,36] with increments of 1.\n",
    "\n",
    "x = np.arange(1, 37, 1)\n",
    "y = []\n",
    "\n",
    "alerting_ctrl = ctrl.ControlSystem([rule0, rule1, rule2, rule3, rule4, rule5, rule6, rule7, rule8, rule9, rule10, rule11])\n",
    "alerting = ctrl.ControlSystemSimulation(alerting_ctrl)\n",
    "\n",
    "for i in x:\n",
    "  alerting.input['temperature'] = 38.5\n",
    "  alerting.input['age'] = i\n",
    "  alerting.compute()\n",
    "  y.append(alerting.output['alert'])\n",
    "\n",
    "plt.figure(figsize=(8, 5))\n",
    "plt.plot(x,y)\n",
    "plt.title('Alert level as a function of the age from 1 to 36 months for a temperture of 38.5 °C')\n",
    "plt.xlabel('Age [months]')\n",
    "plt.ylabel('Alert level')\n",
    "plt.grid()"
   ]
  },
  {
   "cell_type": "code",
   "execution_count": 10,
   "metadata": {},
   "outputs": [
    {
     "data": {
      "image/png": "[encoded data removed]",
      "text/plain": [
       "<Figure size 576x360 with 1 Axes>"
      ]
     },
     "metadata": {
      "needs_background": "light"
     },
     "output_type": "display_data"
    }
   ],
   "source": [
    "# For a temperature of 40 degrees Celcius, the alert level as a function of the age [1,36] with increments of 1.\n",
    "\n",
    "x = np.arange(1, 37, 1)\n",
    "y = []\n",
    "\n",
    "alerting_ctrl = ctrl.ControlSystem([rule0, rule1, rule2, rule3, rule4, rule5, rule6, rule7, rule8, rule9, rule10, rule11])\n",
    "alerting = ctrl.ControlSystemSimulation(alerting_ctrl)\n",
    "\n",
    "for i in x:\n",
    "  alerting.input['temperature'] = 40\n",
    "  alerting.input['age'] = i\n",
    "  alerting.compute()\n",
    "  y.append(alerting.output['alert'])\n",
    "\n",
    "plt.figure(figsize=(8, 5))\n",
    "plt.plot(x,y)\n",
    "plt.title('Alert level as a function of the age from 1 to 36 months for a temperture of 40 °C')\n",
    "plt.xlabel('Age [months]')\n",
    "plt.ylabel('Alert level')\n",
    "plt.grid()"
   ]
  },
  {
   "cell_type": "markdown",
   "metadata": {
    "nbgrader": {
     "grade": false,
     "grade_id": "cell-28fc329affb3aa0a",
     "locked": true,
     "schema_version": 1,
     "solution": false
    }
   },
   "source": [
    "### Step 5:  Visualize the output and tune the system\n",
    "\n",
    "Make a 3D surface plot (function ***plot_surface()***) with the output of the alert system for ages [1,36] and temperatures [28, 46]. Tune the system such that the alert level is always within the no-alert range for temperatures in the range [36.5, 37.5]. You can adjust the system by modifying the membership functions, changing the rules or inference system; till you obtain the desired behaviour. Modifications towards Step 1 are allowed here."
   ]
  },
  {
   "cell_type": "code",
   "execution_count": 11,
   "metadata": {
    "collapsed": true
   },
   "outputs": [
    {
     "data": {
      "text/plain": [
       "<matplotlib.colorbar.Colorbar at 0x7fd0eb3641f0>"
      ]
     },
     "execution_count": 11,
     "metadata": {},
     "output_type": "execute_result"
    },
    {
     "data": {
      "image/png": "[encoded data removed]",
      "text/plain": [
       "<Figure size 720x432 with 2 Axes>"
      ]
     },
     "metadata": {
      "needs_background": "light"
     },
     "output_type": "display_data"
    }
   ],
   "source": [
    "temperatures_range = np.arange(28, 46.5, 0.5)\n",
    "ages_range  = np.arange(1, 37, 1)\n",
    "z = []\n",
    "\n",
    "alerting_ctrl = ctrl.ControlSystem([rule0, rule1, rule2, rule3, rule4, rule5, rule6, rule7, rule8, rule9, rule10, rule11, rule12])\n",
    "alerting = ctrl.ControlSystemSimulation(alerting_ctrl)\n",
    "\n",
    "X, Y = np.meshgrid(temperatures_range, ages_range)\n",
    "\n",
    "alerting = ctrl.ControlSystemSimulation(alerting_ctrl)\n",
    "alerting.input['temperature'] = X\n",
    "alerting.input['age'] = Y\n",
    "alerting.compute()\n",
    "z = alerting.output['alert']\n",
    "\n",
    "plt.figure(figsize=(10, 6))\n",
    "plt.xlabel('Temperature [°C]')\n",
    "plt.ylabel('Age [months]')\n",
    "\n",
    "plt.contourf(X, Y, z, 20, cmap='hot')\n",
    "plt.colorbar()"
   ]
  },
  {
   "cell_type": "markdown",
   "metadata": {
    "nbgrader": {
     "grade": false,
     "grade_id": "cell-2013c0b47b471367",
     "locked": true,
     "schema_version": 1,
     "solution": false
    }
   },
   "source": [
    "## Part 2: A Bayesian belief network for lung cancer\n",
    "In this exercise we will translate clinical knowledge into a bayesian belief network (the percentages given below are fictive). The goal is to compute the probabilities of presence of cancer, given certain information about the patient. Additionally, we wish to determine the impact on diagnostic tests, when prior information about the patient is given. \n",
    "\n",
    "The changes for lung cancer for someone living a healthy life in a healthy surrounding are slim (3%). They are mainly influenced by smoking (7%), being exposed to pollution (6%), or both (9%). Patients over 50 (about 30% of the population) have the biggest chance of being exposed to pollution (60%), which is significantly more than patients with ages below 50 (10%). Patients over 50 are also more likely to smoke. In fact, one in four males over 50 still smokes, while only 13% of females over 50 smokes. With respect to the population with ages below 50 the difference is remarkable: 20% and 7% for males and females, respectively.  \n",
    "\n",
    "Two tests are primarily done to determine lung cancer: an X-ray scan of the chest, and a Serum Calcium test. Lung cancer has about 85% chance of getting detected using an X-ray. In rare cases (5%), X-ray leads to a positive reading for cases where there is no tumour present. This can be verified using CT imaging. The serum calcium test is cheap, but not very reliable for lung cancer: only 70% sensitivity and a false positive result in about 35% of the negative cases.\n"
   ]
  },
  {
   "cell_type": "markdown",
   "metadata": {
    "nbgrader": {
     "grade": false,
     "grade_id": "cell-a0adbf81c090464e",
     "locked": true,
     "schema_version": 1,
     "solution": false
    }
   },
   "source": [
    "### Step 1: Design the probalistic graphical model \n",
    "Use the package graphviz to draw the bayesian belief network and visualize the network. For now, focuss on dependencies between the different criteria by establishing edges between the different nodes. You should end up with a graph of seven nodes. \n"
   ]
  },
  {
   "cell_type": "code",
   "execution_count": 12,
   "metadata": {
    "collapsed": true
   },
   "outputs": [
    {
     "data": {
      "text/plain": [
       "'test-output/round-table.gv.pdf'"
      ]
     },
     "execution_count": 12,
     "metadata": {},
     "output_type": "execute_result"
    }
   ],
   "source": [
    "from graphviz import Digraph as dia\n",
    "import matplotlib.pyplot as plt\n",
    "\n",
    "#Define the network\n",
    "dot = dia(comment='Chances for lung cancer')\n",
    "dot.node('C', 'Lung cancer')\n",
    "dot.node('G', 'Gender')\n",
    "dot.node('A', 'Age')\n",
    "dot.node('S', 'Smoke')\n",
    "dot.node('P', 'Pollution')\n",
    "dot.node('X', 'X-Ray')\n",
    "dot.node('T', 'Serum Calcium')\n",
    "\n",
    "dot.edges(['AS', 'GS', 'AP', 'SC', 'PC', 'CX','CT'])\n",
    "\n",
    "#Render the network\n",
    "dot.render('test-output/round-table.gv', view=True)"
   ]
  },
  {
   "cell_type": "markdown",
   "metadata": {
    "nbgrader": {
     "grade": false,
     "grade_id": "cell-dd8755a709bbc275",
     "locked": true,
     "schema_version": 1,
     "solution": false
    }
   },
   "source": [
    "### Step 2: Build the probabilistic graphical model\n",
    "Now use the package pgmpy to build the computational probabilistic graphical model, named cancer_model, by specifying the edges. You can verify the model you defined using the cancer_model.edges() and cancer_model.nodes() commands."
   ]
  },
  {
   "cell_type": "code",
   "execution_count": 13,
   "metadata": {
    "collapsed": true
   },
   "outputs": [
    {
     "name": "stderr",
     "output_type": "stream",
     "text": [
      "/Users/aneruthmohanasundaram/Documents/GitHub/Clinical-Decision-Support-System/venv/lib/python3.8/site-packages/pgmpy/models/BayesianModel.py:8: FutureWarning: BayesianModel has been renamed to BayesianNetwork. Please use BayesianNetwork class, BayesianModel will be removed in future.\n",
      "  warnings.warn(\n"
     ]
    }
   ],
   "source": [
    "from pgmpy.models import BayesianModel\n",
    "from pgmpy.factors.discrete import TabularCPD \n",
    "\n",
    "# Build the computational probabilistic model\n",
    "cancer_model = BayesianModel([('A', 'S'), ('G', 'S'), ('A', 'P'), ('S', 'C'), ('P', 'C'), ('C', 'X'), ('C', 'T')]) "
   ]
  },
  {
   "cell_type": "code",
   "execution_count": 14,
   "metadata": {},
   "outputs": [
    {
     "name": "stdout",
     "output_type": "stream",
     "text": [
      "Edges of our model are  [('A', 'S'), ('A', 'P'), ('S', 'C'), ('G', 'S'), ('P', 'C'), ('C', 'X'), ('C', 'T')]  and nodes of our model are ['A', 'S', 'G', 'P', 'C', 'X', 'T']\n"
     ]
    }
   ],
   "source": [
    "print(f'Edges of our model are  {cancer_model.edges()}  and nodes of our model are {cancer_model.nodes()}')"
   ]
  },
  {
   "cell_type": "markdown",
   "metadata": {
    "nbgrader": {
     "grade": false,
     "grade_id": "cell-37df8372decf9827",
     "locked": true,
     "schema_version": 1,
     "solution": false
    }
   },
   "source": [
    "### Step 3: Define the conditional probability distributions (CPDs)\n",
    "Using the knowledge given above, fill in the conditional probabilities for each node using the TabularCPD command. Finding out the order of the probabilities can be a bit tricky. Have a look at http://pgmpy.org/factors.html for an example. The probability of male vs female is 50%."
   ]
  },
  {
   "cell_type": "code",
   "execution_count": 15,
   "metadata": {
    "collapsed": true
   },
   "outputs": [
    {
     "name": "stdout",
     "output_type": "stream",
     "text": [
      "Age: 0 >= 50; 1 <= 50\n",
      "+------+-----+\n",
      "| A(0) | 0.3 |\n",
      "+------+-----+\n",
      "| A(1) | 0.7 |\n",
      "+------+-----+\n",
      "\n",
      "Gender: 0=Male ; 1=Female\n",
      "+------+-----+\n",
      "| G(0) | 0.5 |\n",
      "+------+-----+\n",
      "| G(1) | 0.5 |\n",
      "+------+-----+\n",
      "\n",
      "0=Smoke   1=No smoke\n",
      "+------+------+------+------+------+\n",
      "| G    | G(0) | G(0) | G(1) | G(1) |\n",
      "+------+------+------+------+------+\n",
      "| A    | A(0) | A(1) | A(0) | A(1) |\n",
      "+------+------+------+------+------+\n",
      "| S(0) | 0.25 | 0.2  | 0.13 | 0.07 |\n",
      "+------+------+------+------+------+\n",
      "| S(1) | 0.75 | 0.8  | 0.87 | 0.93 |\n",
      "+------+------+------+------+------+\n",
      "\n",
      "0=Pollution   1=No pollution\n",
      "+------+------+------+\n",
      "| A    | A(0) | A(1) |\n",
      "+------+------+------+\n",
      "| P(0) | 0.6  | 0.1  |\n",
      "+------+------+------+\n",
      "| P(1) | 0.4  | 0.9  |\n",
      "+------+------+------+\n",
      "\n",
      "0=Cancer True   1=No cancer\n",
      "+------+------+------+------+------+\n",
      "| S    | S(0) | S(0) | S(1) | S(1) |\n",
      "+------+------+------+------+------+\n",
      "| P    | P(0) | P(1) | P(0) | P(1) |\n",
      "+------+------+------+------+------+\n",
      "| C(0) | 0.09 | 0.07 | 0.06 | 0.03 |\n",
      "+------+------+------+------+------+\n",
      "| C(1) | 0.91 | 0.93 | 0.94 | 0.97 |\n",
      "+------+------+------+------+------+\n",
      "\n",
      "C: 0=Cancer True   1=No cancer\n",
      "T: 0=Positive Serum   1=Negative Serum\n",
      "+------+------+------+\n",
      "| C    | C(0) | C(1) |\n",
      "+------+------+------+\n",
      "| T(0) | 0.7  | 0.35 |\n",
      "+------+------+------+\n",
      "| T(1) | 0.3  | 0.65 |\n",
      "+------+------+------+\n",
      "\n",
      "C: 0=Cancer True   1=No cancer\n",
      "X: 0=Positive XRay   1=Negative XRay\n",
      "+------+------+------+\n",
      "| C    | C(0) | C(1) |\n",
      "+------+------+------+\n",
      "| X(0) | 0.85 | 0.05 |\n",
      "+------+------+------+\n",
      "| X(1) | 0.15 | 0.95 |\n",
      "+------+------+------+\n"
     ]
    }
   ],
   "source": [
    "#Fill the probqbilistic model with the conditional probabilities for each node\n",
    "age = TabularCPD('A', 2,values=[[0.3],[0.7]])\n",
    "print('Age: 0 >= 50; 1 <= 50')\n",
    "print(age)\n",
    "\n",
    "gender = TabularCPD('G', 2,values=[[0.5],[0.5]])\n",
    "print('\\nGender: 0=Male ; 1=Female')\n",
    "print(gender)\n",
    "\n",
    "smoke = TabularCPD('S', 2,values=[[0.25, 0.2, 0.13, 0.07],[0.75, 0.8, 0.87, 0.93]], evidence=['G', 'A'], evidence_card=[2,2])\n",
    "print('\\n0=Smoke   1=No smoke')\n",
    "print(smoke)\n",
    "\n",
    "pollution = TabularCPD('P', 2,values=[[0.6, 0.1], [0.4, 0.9]], evidence=['A'], evidence_card=[2])\n",
    "print('\\n0=Pollution   1=No pollution')\n",
    "print(pollution)\n",
    "\n",
    "cancer = TabularCPD('C', 2,values=[[0.09, 0.07, 0.06, 0.03], [0.91, 0.93, 0.94, 0.97]], evidence=['S','P'], evidence_card=[2,2])\n",
    "print('\\n0=Cancer True   1=No cancer')\n",
    "print(cancer)\n",
    "\n",
    "\n",
    "serum = TabularCPD('T', 2,values=[[0.7, 0.35], [0.3, 0.65]], evidence=['C'], evidence_card=[2])\n",
    "print('\\nC: 0=Cancer True   1=No cancer')\n",
    "print('T: 0=Positive Serum   1=Negative Serum')\n",
    "print(serum)\n",
    "\n",
    "xray = TabularCPD('X', 2,values=[[0.85, 0.05], [0.15, 0.95]], evidence=['C'], evidence_card=[2])\n",
    "print('\\nC: 0=Cancer True   1=No cancer')\n",
    "print('X: 0=Positive XRay   1=Negative XRay')\n",
    "print(xray)\n"
   ]
  },
  {
   "cell_type": "markdown",
   "metadata": {
    "nbgrader": {
     "grade": false,
     "grade_id": "cell-bbe50fac4caa7971",
     "locked": true,
     "schema_version": 1,
     "solution": false
    }
   },
   "source": [
    "### Step 4: Associate the CPDs to the model structure, and test the model\n",
    "Next, associate the CPDs to the model structure and check for consistency.\n",
    "\n",
    "Perform inference on you model using VariableElimination and verify the outcome is intuitively correct for all nodes (e.g. chance of cancer should increase given evidence of smoking, etc.). Adjust the definition of the CPDs if needed. "
   ]
  },
  {
   "cell_type": "code",
   "execution_count": 17,
   "metadata": {
    "collapsed": true
   },
   "outputs": [
    {
     "data": {
      "text/plain": [
       "True"
      ]
     },
     "execution_count": 17,
     "metadata": {},
     "output_type": "execute_result"
    }
   ],
   "source": [
    "#Model creation and checking consinstency\n",
    "\n",
    "from pgmpy.inference import VariableElimination\n",
    "\n",
    "cancer_model.add_cpds(age, gender, smoke, pollution, cancer, serum, xray)\n",
    "cancer_model.check_model()"
   ]
  },
  {
   "cell_type": "code",
   "execution_count": 19,
   "metadata": {},
   "outputs": [
    {
     "name": "stdout",
     "output_type": "stream",
     "text": [
      "Age: >= 50\n",
      "+------+----------+\n",
      "| C    |   phi(C) |\n",
      "+======+==========+\n",
      "| C(0) |   0.0545 |\n",
      "+------+----------+\n",
      "| C(1) |   0.9455 |\n",
      "+------+----------+\n",
      "\n",
      "Age: <= 50\n",
      "+------+----------+\n",
      "| C    |   phi(C) |\n",
      "+======+==========+\n",
      "| C(0) |   0.0383 |\n",
      "+------+----------+\n",
      "| C(1) |   0.9617 |\n",
      "+------+----------+\n",
      "\n",
      "Male\n",
      "+------+----------+\n",
      "| C    |   phi(C) |\n",
      "+======+==========+\n",
      "| C(0) |   0.0455 |\n",
      "+------+----------+\n",
      "| C(1) |   0.9545 |\n",
      "+------+----------+\n",
      "\n",
      "Female\n",
      "+------+----------+\n",
      "| C    |   phi(C) |\n",
      "+======+==========+\n",
      "| C(0) |   0.0407 |\n",
      "+------+----------+\n",
      "| C(1) |   0.9593 |\n",
      "+------+----------+\n",
      "\n",
      "Smoker\n",
      "+------+----------+\n",
      "| C    |   phi(C) |\n",
      "+======+==========+\n",
      "| C(0) |   0.0758 |\n",
      "+------+----------+\n",
      "| C(1) |   0.9242 |\n",
      "+------+----------+\n",
      "\n",
      "Non Smoker\n",
      "+------+----------+\n",
      "| C    |   phi(C) |\n",
      "+======+==========+\n",
      "| C(0) |   0.0373 |\n",
      "+------+----------+\n",
      "| C(1) |   0.9627 |\n",
      "+------+----------+\n",
      "\n",
      "Pollution\n",
      "+------+----------+\n",
      "| C    |   phi(C) |\n",
      "+======+==========+\n",
      "| C(0) |   0.0652 |\n",
      "+------+----------+\n",
      "| C(1) |   0.9348 |\n",
      "+------+----------+\n",
      "\n",
      "Non Pollution\n",
      "+------+----------+\n",
      "| C    |   phi(C) |\n",
      "+======+==========+\n",
      "| C(0) |   0.0358 |\n",
      "+------+----------+\n",
      "| C(1) |   0.9642 |\n",
      "+------+----------+\n",
      "\n",
      "Positive X-ray\n",
      "+------+----------+\n",
      "| C    |   phi(C) |\n",
      "+======+==========+\n",
      "| C(0) |   0.4338 |\n",
      "+------+----------+\n",
      "| C(1) |   0.5662 |\n",
      "+------+----------+\n",
      "\n",
      "Negative X-ray\n",
      "+------+----------+\n",
      "| C    |   phi(C) |\n",
      "+======+==========+\n",
      "| C(0) |   0.0071 |\n",
      "+------+----------+\n",
      "| C(1) |   0.9929 |\n",
      "+------+----------+\n",
      "\n",
      "Positive Serum Calcium test\n",
      "+------+----------+\n",
      "| C    |   phi(C) |\n",
      "+======+==========+\n",
      "| C(0) |   0.0827 |\n",
      "+------+----------+\n",
      "| C(1) |   0.9173 |\n",
      "+------+----------+\n",
      "\n",
      "Negative Serum Calcium test\n",
      "+------+----------+\n",
      "| C    |   phi(C) |\n",
      "+======+==========+\n",
      "| C(0) |   0.0204 |\n",
      "+------+----------+\n",
      "| C(1) |   0.9796 |\n",
      "+------+----------+\n"
     ]
    }
   ],
   "source": [
    "# Perform inference on the model for each node\n",
    "#\n",
    "# Remember C(0) > Subject has cancer\n",
    "# Remember C(1) > Subject has no cancer\n",
    "\n",
    "inference = VariableElimination(cancer_model)\n",
    "\n",
    "young_query = inference.query(variables=['C'], evidence={'A': 0}, show_progress=False)\n",
    "print('Age: >= 50')\n",
    "print(young_query)\n",
    "\n",
    "old_query = inference.query(variables=['C'], evidence={'A': 1}, show_progress=False)\n",
    "print('\\nAge: <= 50')\n",
    "print(old_query)\n",
    "\n",
    "male_query = inference.query(variables=['C'], evidence={'G': 0}, show_progress=False)\n",
    "print('\\nMale')\n",
    "print(male_query)\n",
    "\n",
    "female_query = inference.query(variables=['C'], evidence={'G': 1}, show_progress=False)\n",
    "print('\\nFemale')\n",
    "print(female_query)\n",
    "\n",
    "smoking_query = inference.query(variables=['C'], evidence={'S': 0}, show_progress=False)\n",
    "print('\\nSmoker')\n",
    "print(smoking_query)\n",
    "\n",
    "non_smoking_query = inference.query(variables=['C'], evidence={'S': 1}, show_progress=False)\n",
    "print('\\nNon Smoker')\n",
    "print(non_smoking_query)\n",
    "\n",
    "pollution_query = inference.query(variables=['C'], evidence={'P': 0}, show_progress=False)\n",
    "print('\\nPollution')\n",
    "print(pollution_query)\n",
    "\n",
    "non_pollution_query = inference.query(variables=['C'], evidence={'P': 1}, show_progress=False)\n",
    "print('\\nNon Pollution')\n",
    "print(non_pollution_query)\n",
    "\n",
    "pos_xray_query = inference.query(variables=['C'], evidence={'X': 0}, show_progress=False)\n",
    "print('\\nPositive X-ray')\n",
    "print(pos_xray_query)\n",
    "\n",
    "neg_xray_query = inference.query(variables=['C'], evidence={'X': 1}, show_progress=False)\n",
    "print('\\nNegative X-ray')\n",
    "print(neg_xray_query)\n",
    "\n",
    "pos_serum_query = inference.query(variables=['C'], evidence={'T': 0}, show_progress=False)\n",
    "print('\\nPositive Serum Calcium test')\n",
    "print(pos_serum_query)\n",
    "\n",
    "neg_serum_query = inference.query(variables=['C'], evidence={'T': 1}, show_progress=False)\n",
    "print('\\nNegative Serum Calcium test')\n",
    "print(neg_serum_query)"
   ]
  },
  {
   "cell_type": "markdown",
   "metadata": {
    "nbgrader": {
     "grade": false,
     "grade_id": "cell-8eab17e49b28ffd7",
     "locked": true,
     "schema_version": 1,
     "solution": false
    }
   },
   "source": [
    "### Step 5: Use your model to compute probabilities and answer questions\n",
    "\n",
    "    * Whithout any information about the patient, what are the chances of having lung cancer, a positive X-ray and a positive serum Calcium test. Explain the discrepancy.  "
   ]
  },
  {
   "cell_type": "code",
   "execution_count": 22,
   "metadata": {
    "collapsed": true
   },
   "outputs": [
    {
     "name": "stdout",
     "output_type": "stream",
     "text": [
      "The chances of having lung cancer without any informacion of the patient are:\n",
      "+------+----------+\n",
      "| C    |   phi(C) |\n",
      "+======+==========+\n",
      "| C(0) |   0.0431 |\n",
      "+------+----------+\n",
      "| C(1) |   0.9569 |\n",
      "+------+----------+\n",
      "\n",
      "The chances of having a positive X-Ray without any informacion of the patient are:\n",
      "+------+----------+\n",
      "| X    |   phi(X) |\n",
      "+======+==========+\n",
      "| X(0) |   0.0845 |\n",
      "+------+----------+\n",
      "| X(1) |   0.9155 |\n",
      "+------+----------+\n",
      "\n",
      "The chances of having a positive serum test without any informacion of the patient are:\n",
      "+------+----------+\n",
      "| T    |   phi(T) |\n",
      "+======+==========+\n",
      "| T(0) |   0.3651 |\n",
      "+------+----------+\n",
      "| T(1) |   0.6349 |\n",
      "+------+----------+\n"
     ]
    }
   ],
   "source": [
    "print('The chances of having lung cancer without any informacion of the patient are:')\n",
    "c_query = inference.query(variables=['C'], show_progress=False)\n",
    "print(c_query)\n",
    "\n",
    "print('\\nThe chances of having a positive X-Ray without any informacion of the patient are:')\n",
    "x_query = inference.query(variables=['X'], show_progress=False)\n",
    "print(x_query)\n",
    "\n",
    "print('\\nThe chances of having a positive serum test without any informacion of the patient are:')\n",
    "t_query = inference.query(variables=['T'], show_progress=False)\n",
    "print(t_query)"
   ]
  },
  {
   "cell_type": "markdown",
   "metadata": {},
   "source": [
    "- ***Lung cancer has a 4.31 percent probability of occurring without the patient's knowledge. Because the percentage of people under 50 is higher (70 percent), and those are less exposed to pollution, this value is closer to the 3% that represented the chances of lung cancer with a healthy lifestyle (10 percent ). Simultaneously, the percentage of smokers in both age groups is below 25%, implying that in the worst-case scenario, 75% of the population does not smoke. We can deduce from these figures that the majority of the population leads a healthy lifestyle.***\n",
    "\n",
    "- ***Without any information from the patient, the chances of getting a favorable X-Ray are 8,45 percent. This makes sense because it's closer to the 5% of cases where a positive result is obtained without the presence of cancer, but it's also influenced by the likelihood that the patient has a risk factor.***\n",
    "\n",
    "- ***The chances of having a positive serum test without any informacion of the patient are: 36,51%.***\n",
    "\n",
    "***The discrepancy between the three values is due to their internal condicionants and the lack of information about the patient***"
   ]
  },
  {
   "cell_type": "markdown",
   "metadata": {
    "nbgrader": {
     "grade": false,
     "grade_id": "cell-720eec837b25c346",
     "locked": true,
     "schema_version": 1,
     "solution": false
    }
   },
   "source": [
    "    * What are the probabilities in case we have evidence about the age (>50) and smoking behaviour (smoker) of the patient? Explain the difference with the first case.  "
   ]
  },
  {
   "cell_type": "code",
   "execution_count": 23,
   "metadata": {
    "collapsed": true
   },
   "outputs": [
    {
     "name": "stdout",
     "output_type": "stream",
     "text": [
      "The chances of having lung cancer given that the patient is >=50 and Smoker are:\n",
      "+------+----------+\n",
      "| C    |   phi(C) |\n",
      "+======+==========+\n",
      "| C(0) |   0.0820 |\n",
      "+------+----------+\n",
      "| C(1) |   0.9180 |\n",
      "+------+----------+\n",
      "\n",
      "The chances of having a positive X-Ray given that the patient is >=50 and Smoker are:\n",
      "+------+----------+\n",
      "| X    |   phi(X) |\n",
      "+======+==========+\n",
      "| X(0) |   0.1156 |\n",
      "+------+----------+\n",
      "| X(1) |   0.8844 |\n",
      "+------+----------+\n",
      "\n",
      "The chances of having a positive serum test given that the patient is >=50 and Smoker are:\n",
      "+------+----------+\n",
      "| T    |   phi(T) |\n",
      "+======+==========+\n",
      "| T(0) |   0.3787 |\n",
      "+------+----------+\n",
      "| T(1) |   0.6213 |\n",
      "+------+----------+\n"
     ]
    }
   ],
   "source": [
    "print('The chances of having lung cancer given that the patient is >=50 and Smoker are:')\n",
    "c_query = inference.query(variables=['C'], evidence={'A': 0, 'S': 0}, show_progress=False)\n",
    "print(c_query)\n",
    "\n",
    "print('\\nThe chances of having a positive X-Ray given that the patient is >=50 and Smoker are:')\n",
    "x_query = inference.query(variables=['X'], evidence={'A': 0, 'S': 0}, show_progress=False)\n",
    "print(x_query)\n",
    "\n",
    "print('\\nThe chances of having a positive serum test given that the patient is >=50 and Smoker are:')\n",
    "t_query = inference.query(variables=['T'], evidence={'A': 0, 'S': 0}, show_progress=False)\n",
    "print(t_query)"
   ]
  },
  {
   "cell_type": "markdown",
   "metadata": {},
   "source": [
    "***Because we included the requirements of age > 50 and smoking, all probability have increased. These two disorders raise the risk of lung cancer and, as a result, the likelihood of testing positive or being diagnosed with cancer.***"
   ]
  },
  {
   "cell_type": "markdown",
   "metadata": {
    "nbgrader": {
     "grade": false,
     "grade_id": "cell-49414e5c3095804a",
     "locked": true,
     "schema_version": 1,
     "solution": false
    }
   },
   "source": [
    "    * What are the probabilities in case we have evidence of cancer (but not about the about the age and smoking behaviour of the patient)? Explain the difference with the previous cases.  "
   ]
  },
  {
   "cell_type": "code",
   "execution_count": 24,
   "metadata": {
    "collapsed": true
   },
   "outputs": [
    {
     "name": "stdout",
     "output_type": "stream",
     "text": [
      "The chances of having a positive X-Ray given that the patient has cancer are:\n",
      "+------+----------+\n",
      "| X    |   phi(X) |\n",
      "+======+==========+\n",
      "| X(0) |   0.8500 |\n",
      "+------+----------+\n",
      "| X(1) |   0.1500 |\n",
      "+------+----------+\n",
      "\n",
      "The chances of having a positive serum test given that the patient has cancer are:\n",
      "+------+----------+\n",
      "| T    |   phi(T) |\n",
      "+======+==========+\n",
      "| T(0) |   0.7000 |\n",
      "+------+----------+\n",
      "| T(1) |   0.3000 |\n",
      "+------+----------+\n"
     ]
    }
   ],
   "source": [
    "print('The chances of having a positive X-Ray given that the patient has cancer are:')\n",
    "x_query = inference.query(variables=['X'], evidence={'C': 0}, show_progress=False)\n",
    "print(x_query)\n",
    "\n",
    "print('\\nThe chances of having a positive serum test given that the patient has cancer are:')\n",
    "t_query = inference.query(variables=['T'], evidence={'C': 0}, show_progress=False)\n",
    "print(t_query)"
   ]
  },
  {
   "cell_type": "markdown",
   "metadata": {},
   "source": [
    "***We cannot evaluate the probability of having cancer conditioned by having cancer because the system throws an error, evidently, this probability is 100%.***\n",
    "\n",
    "***In the case of the X-Ray and the serum test, we obtain the same results as the conditional probabilities introduced in the creation of the model since this was the infomation provided.***\n",
    "\n",
    "***Compared to the previous cases, the probabilities of positive results in the test is the highest because in this situation we are sure that the patient has cancer.***\n"
   ]
  },
  {
   "cell_type": "markdown",
   "metadata": {
    "nbgrader": {
     "grade": false,
     "grade_id": "cell-2b18c025efb062ae",
     "locked": true,
     "schema_version": 1,
     "solution": false
    }
   },
   "source": [
    "    * What are the probabilities in case we have evidence of cancer, and about the age (>50) and smoking behaviour (smoker) of the patient? Explain the difference with the previous cases.  "
   ]
  },
  {
   "cell_type": "code",
   "execution_count": 25,
   "metadata": {
    "collapsed": true
   },
   "outputs": [
    {
     "name": "stdout",
     "output_type": "stream",
     "text": [
      "The chances of having a positive X-Ray given that the patient has cancer, is >=50 and Smoker are:\n",
      "+------+----------+\n",
      "| X    |   phi(X) |\n",
      "+======+==========+\n",
      "| X(0) |   0.8500 |\n",
      "+------+----------+\n",
      "| X(1) |   0.1500 |\n",
      "+------+----------+\n",
      "\n",
      "The chances of having a positive serum given that the patient has cancer, is >=50 and Smoker are:\n",
      "+------+----------+\n",
      "| T    |   phi(T) |\n",
      "+======+==========+\n",
      "| T(0) |   0.7000 |\n",
      "+------+----------+\n",
      "| T(1) |   0.3000 |\n",
      "+------+----------+\n"
     ]
    }
   ],
   "source": [
    "print('The chances of having a positive X-Ray given that the patient has cancer, is >=50 and Smoker are:')\n",
    "x_query = inference.query(variables=['X'], evidence={'A': 0, 'S': 0, 'C':0}, show_progress=False)\n",
    "print(x_query)\n",
    "\n",
    "print('\\nThe chances of having a positive serum given that the patient has cancer, is >=50 and Smoker are:')\n",
    "t_query = inference.query(variables=['T'], evidence={'A': 0, 'S': 0, 'C':0}, show_progress=False)\n",
    "print(t_query)"
   ]
  },
  {
   "cell_type": "markdown",
   "metadata": {},
   "source": [
    "***Finally in this case, we obtain the same results as in the previous one. This result proves that, once  the patient has cancer, the age or lifestyle of the patient doesn't influence the results of the test. That is to say, the age and smoking habits are antecedentes of having cancer.***"
   ]
  }
 ],
 "metadata": {
  "celltoolbar": "Create Assignment",
  "kernelspec": {
   "display_name": "Python 3",
   "language": "python",
   "name": "python3"
  },
  "language_info": {
   "codemirror_mode": {
    "name": "ipython",
    "version": 3
   },
   "file_extension": ".py",
   "mimetype": "text/x-python",
   "name": "python",
   "nbconvert_exporter": "python",
   "pygments_lexer": "ipython3",
   "version": "3.8.5"
  }
 },
 "nbformat": 4,
 "nbformat_minor": 2
}
